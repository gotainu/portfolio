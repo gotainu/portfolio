{
 "cells": [
  {
   "cell_type": "code",
   "execution_count": 2,
   "id": "d43eea5e",
   "metadata": {
    "collapsed": true
   },
   "outputs": [
    {
     "data": {
      "text/plain": [
       "['/Users/gonakazawa/Documents/go/dev_environments/bayes_optimization',\n",
       " '/opt/homebrew/Cellar/python@3.10/3.10.8/Frameworks/Python.framework/Versions/3.10/lib/python310.zip',\n",
       " '/opt/homebrew/Cellar/python@3.10/3.10.8/Frameworks/Python.framework/Versions/3.10/lib/python3.10',\n",
       " '/opt/homebrew/Cellar/python@3.10/3.10.8/Frameworks/Python.framework/Versions/3.10/lib/python3.10/lib-dynload',\n",
       " '',\n",
       " '/opt/homebrew/Cellar/jupyterlab/3.4.8/libexec/lib/python3.10/site-packages',\n",
       " '/opt/homebrew/opt/six/lib/python3.10/site-packages',\n",
       " '/opt/homebrew/lib/python3.10/site-packages']"
      ]
     },
     "execution_count": 2,
     "metadata": {},
     "output_type": "execute_result"
    }
   ],
   "source": [
    "import sys\n",
    "sys.path"
   ]
  },
  {
   "cell_type": "code",
   "execution_count": 18,
   "id": "040a0672",
   "metadata": {},
   "outputs": [],
   "source": [
    "sys.path.append(\"/Users/gonakazawa/.pyenv/versions/3.10.6/lib/python3.10/site-packages\")"
   ]
  },
  {
   "cell_type": "code",
   "execution_count": null,
   "id": "145859ea",
   "metadata": {},
   "outputs": [],
   "source": [
    "!pip install scikit-learn"
   ]
  },
  {
   "cell_type": "code",
   "execution_count": 44,
   "id": "aa6629f5",
   "metadata": {},
   "outputs": [],
   "source": [
    "import numpy as np\n",
    "import matplotlib.pyplot as plt\n",
    "%matplotlib inline\n",
    "import pandas as pd\n",
    "import datetime as dt\n",
    "data = pd.DataFrame()"
   ]
  },
  {
   "cell_type": "code",
   "execution_count": 9,
   "id": "193e60d1",
   "metadata": {
    "collapsed": true
   },
   "outputs": [
    {
     "name": "stdout",
     "output_type": "stream",
     "text": [
      "Untitled.ipynb                   note02_optimization.ipynb\r\n",
      "\u001b[34mdata\u001b[m\u001b[m                             note03_experimental_design.ipynb\r\n",
      "\u001b[34mimgs\u001b[m\u001b[m                             note04_batchBO.ipynb\r\n",
      "maro_cagedata.csv                ベイズ最適化.pdf\r\n",
      "note01_regression.ipynb\r\n"
     ]
    }
   ],
   "source": [
    "!ls"
   ]
  },
  {
   "cell_type": "code",
   "execution_count": 31,
   "id": "ad8ddc15",
   "metadata": {},
   "outputs": [
    {
     "data": {
      "text/html": [
       "<div>\n",
       "<style scoped>\n",
       "    .dataframe tbody tr th:only-of-type {\n",
       "        vertical-align: middle;\n",
       "    }\n",
       "\n",
       "    .dataframe tbody tr th {\n",
       "        vertical-align: top;\n",
       "    }\n",
       "\n",
       "    .dataframe thead th {\n",
       "        text-align: right;\n",
       "    }\n",
       "</style>\n",
       "<table border=\"1\" class=\"dataframe\">\n",
       "  <thead>\n",
       "    <tr style=\"text-align: right;\">\n",
       "      <th></th>\n",
       "      <th>Date</th>\n",
       "      <th>temperature</th>\n",
       "      <th>humidity</th>\n",
       "    </tr>\n",
       "  </thead>\n",
       "  <tbody>\n",
       "    <tr>\n",
       "      <th>0</th>\n",
       "      <td>2023-01-20 01:43</td>\n",
       "      <td>21.0</td>\n",
       "      <td>74</td>\n",
       "    </tr>\n",
       "    <tr>\n",
       "      <th>1</th>\n",
       "      <td>2023-01-20 02:43</td>\n",
       "      <td>20.9</td>\n",
       "      <td>74</td>\n",
       "    </tr>\n",
       "    <tr>\n",
       "      <th>2</th>\n",
       "      <td>2023-01-20 03:43</td>\n",
       "      <td>20.8</td>\n",
       "      <td>74</td>\n",
       "    </tr>\n",
       "    <tr>\n",
       "      <th>3</th>\n",
       "      <td>2023-01-20 04:43</td>\n",
       "      <td>20.7</td>\n",
       "      <td>74</td>\n",
       "    </tr>\n",
       "    <tr>\n",
       "      <th>4</th>\n",
       "      <td>2023-01-20 05:43</td>\n",
       "      <td>20.7</td>\n",
       "      <td>74</td>\n",
       "    </tr>\n",
       "    <tr>\n",
       "      <th>...</th>\n",
       "      <td>...</td>\n",
       "      <td>...</td>\n",
       "      <td>...</td>\n",
       "    </tr>\n",
       "    <tr>\n",
       "      <th>868</th>\n",
       "      <td>2023-02-25 05:43</td>\n",
       "      <td>23.0</td>\n",
       "      <td>64</td>\n",
       "    </tr>\n",
       "    <tr>\n",
       "      <th>869</th>\n",
       "      <td>2023-02-25 06:43</td>\n",
       "      <td>22.7</td>\n",
       "      <td>64</td>\n",
       "    </tr>\n",
       "    <tr>\n",
       "      <th>870</th>\n",
       "      <td>2023-02-25 07:43</td>\n",
       "      <td>22.8</td>\n",
       "      <td>64</td>\n",
       "    </tr>\n",
       "    <tr>\n",
       "      <th>871</th>\n",
       "      <td>2023-02-25 08:43</td>\n",
       "      <td>22.6</td>\n",
       "      <td>65</td>\n",
       "    </tr>\n",
       "    <tr>\n",
       "      <th>872</th>\n",
       "      <td>2023-02-25 09:43</td>\n",
       "      <td>22.9</td>\n",
       "      <td>67</td>\n",
       "    </tr>\n",
       "  </tbody>\n",
       "</table>\n",
       "<p>873 rows × 3 columns</p>\n",
       "</div>"
      ],
      "text/plain": [
       "                 Date  temperature  humidity\n",
       "0    2023-01-20 01:43         21.0        74\n",
       "1    2023-01-20 02:43         20.9        74\n",
       "2    2023-01-20 03:43         20.8        74\n",
       "3    2023-01-20 04:43         20.7        74\n",
       "4    2023-01-20 05:43         20.7        74\n",
       "..                ...          ...       ...\n",
       "868  2023-02-25 05:43         23.0        64\n",
       "869  2023-02-25 06:43         22.7        64\n",
       "870  2023-02-25 07:43         22.8        64\n",
       "871  2023-02-25 08:43         22.6        65\n",
       "872  2023-02-25 09:43         22.9        67\n",
       "\n",
       "[873 rows x 3 columns]"
      ]
     },
     "execution_count": 31,
     "metadata": {},
     "output_type": "execute_result"
    }
   ],
   "source": [
    "maro = pd.read_csv('maro_cagedata.csv')\n",
    "maro"
   ]
  },
  {
   "cell_type": "code",
   "execution_count": 45,
   "id": "aaf60b03",
   "metadata": {
    "collapsed": true
   },
   "outputs": [
    {
     "data": {
      "text/html": [
       "<div>\n",
       "<style scoped>\n",
       "    .dataframe tbody tr th:only-of-type {\n",
       "        vertical-align: middle;\n",
       "    }\n",
       "\n",
       "    .dataframe tbody tr th {\n",
       "        vertical-align: top;\n",
       "    }\n",
       "\n",
       "    .dataframe thead th {\n",
       "        text-align: right;\n",
       "    }\n",
       "</style>\n",
       "<table border=\"1\" class=\"dataframe\">\n",
       "  <thead>\n",
       "    <tr style=\"text-align: right;\">\n",
       "      <th></th>\n",
       "      <th>Date</th>\n",
       "      <th>temperature</th>\n",
       "      <th>humidity</th>\n",
       "    </tr>\n",
       "  </thead>\n",
       "  <tbody>\n",
       "    <tr>\n",
       "      <th>0</th>\n",
       "      <td>2023-01-20 01:43</td>\n",
       "      <td>21.0</td>\n",
       "      <td>74</td>\n",
       "    </tr>\n",
       "    <tr>\n",
       "      <th>1</th>\n",
       "      <td>2023-01-20 02:43</td>\n",
       "      <td>20.9</td>\n",
       "      <td>74</td>\n",
       "    </tr>\n",
       "    <tr>\n",
       "      <th>2</th>\n",
       "      <td>2023-01-20 03:43</td>\n",
       "      <td>20.8</td>\n",
       "      <td>74</td>\n",
       "    </tr>\n",
       "    <tr>\n",
       "      <th>3</th>\n",
       "      <td>2023-01-20 04:43</td>\n",
       "      <td>20.7</td>\n",
       "      <td>74</td>\n",
       "    </tr>\n",
       "    <tr>\n",
       "      <th>4</th>\n",
       "      <td>2023-01-20 05:43</td>\n",
       "      <td>20.7</td>\n",
       "      <td>74</td>\n",
       "    </tr>\n",
       "  </tbody>\n",
       "</table>\n",
       "</div>"
      ],
      "text/plain": [
       "               Date  temperature  humidity\n",
       "0  2023-01-20 01:43         21.0        74\n",
       "1  2023-01-20 02:43         20.9        74\n",
       "2  2023-01-20 03:43         20.8        74\n",
       "3  2023-01-20 04:43         20.7        74\n",
       "4  2023-01-20 05:43         20.7        74"
      ]
     },
     "execution_count": 45,
     "metadata": {},
     "output_type": "execute_result"
    }
   ],
   "source": [
    "df = pd.DataFrame(maro)\n",
    "df.head()"
   ]
  },
  {
   "cell_type": "code",
   "execution_count": 67,
   "id": "4f66cbb1",
   "metadata": {
    "collapsed": true
   },
   "outputs": [
    {
     "data": {
      "text/html": [
       "<div>\n",
       "<style scoped>\n",
       "    .dataframe tbody tr th:only-of-type {\n",
       "        vertical-align: middle;\n",
       "    }\n",
       "\n",
       "    .dataframe tbody tr th {\n",
       "        vertical-align: top;\n",
       "    }\n",
       "\n",
       "    .dataframe thead th {\n",
       "        text-align: right;\n",
       "    }\n",
       "</style>\n",
       "<table border=\"1\" class=\"dataframe\">\n",
       "  <thead>\n",
       "    <tr style=\"text-align: right;\">\n",
       "      <th></th>\n",
       "      <th>Date</th>\n",
       "      <th>temperature</th>\n",
       "      <th>humidity</th>\n",
       "      <th>year</th>\n",
       "      <th>month</th>\n",
       "      <th>day</th>\n",
       "      <th>time</th>\n",
       "    </tr>\n",
       "  </thead>\n",
       "  <tbody>\n",
       "    <tr>\n",
       "      <th>0</th>\n",
       "      <td>2023-01-20 01:43</td>\n",
       "      <td>21.0</td>\n",
       "      <td>74</td>\n",
       "      <td>2023</td>\n",
       "      <td>01</td>\n",
       "      <td>20</td>\n",
       "      <td>01</td>\n",
       "    </tr>\n",
       "    <tr>\n",
       "      <th>1</th>\n",
       "      <td>2023-01-20 02:43</td>\n",
       "      <td>20.9</td>\n",
       "      <td>74</td>\n",
       "      <td>2023</td>\n",
       "      <td>01</td>\n",
       "      <td>20</td>\n",
       "      <td>02</td>\n",
       "    </tr>\n",
       "    <tr>\n",
       "      <th>2</th>\n",
       "      <td>2023-01-20 03:43</td>\n",
       "      <td>20.8</td>\n",
       "      <td>74</td>\n",
       "      <td>2023</td>\n",
       "      <td>01</td>\n",
       "      <td>20</td>\n",
       "      <td>03</td>\n",
       "    </tr>\n",
       "    <tr>\n",
       "      <th>3</th>\n",
       "      <td>2023-01-20 04:43</td>\n",
       "      <td>20.7</td>\n",
       "      <td>74</td>\n",
       "      <td>2023</td>\n",
       "      <td>01</td>\n",
       "      <td>20</td>\n",
       "      <td>04</td>\n",
       "    </tr>\n",
       "    <tr>\n",
       "      <th>4</th>\n",
       "      <td>2023-01-20 05:43</td>\n",
       "      <td>20.7</td>\n",
       "      <td>74</td>\n",
       "      <td>2023</td>\n",
       "      <td>01</td>\n",
       "      <td>20</td>\n",
       "      <td>05</td>\n",
       "    </tr>\n",
       "    <tr>\n",
       "      <th>...</th>\n",
       "      <td>...</td>\n",
       "      <td>...</td>\n",
       "      <td>...</td>\n",
       "      <td>...</td>\n",
       "      <td>...</td>\n",
       "      <td>...</td>\n",
       "      <td>...</td>\n",
       "    </tr>\n",
       "    <tr>\n",
       "      <th>868</th>\n",
       "      <td>2023-02-25 05:43</td>\n",
       "      <td>23.0</td>\n",
       "      <td>64</td>\n",
       "      <td>2023</td>\n",
       "      <td>02</td>\n",
       "      <td>25</td>\n",
       "      <td>05</td>\n",
       "    </tr>\n",
       "    <tr>\n",
       "      <th>869</th>\n",
       "      <td>2023-02-25 06:43</td>\n",
       "      <td>22.7</td>\n",
       "      <td>64</td>\n",
       "      <td>2023</td>\n",
       "      <td>02</td>\n",
       "      <td>25</td>\n",
       "      <td>06</td>\n",
       "    </tr>\n",
       "    <tr>\n",
       "      <th>870</th>\n",
       "      <td>2023-02-25 07:43</td>\n",
       "      <td>22.8</td>\n",
       "      <td>64</td>\n",
       "      <td>2023</td>\n",
       "      <td>02</td>\n",
       "      <td>25</td>\n",
       "      <td>07</td>\n",
       "    </tr>\n",
       "    <tr>\n",
       "      <th>871</th>\n",
       "      <td>2023-02-25 08:43</td>\n",
       "      <td>22.6</td>\n",
       "      <td>65</td>\n",
       "      <td>2023</td>\n",
       "      <td>02</td>\n",
       "      <td>25</td>\n",
       "      <td>08</td>\n",
       "    </tr>\n",
       "    <tr>\n",
       "      <th>872</th>\n",
       "      <td>2023-02-25 09:43</td>\n",
       "      <td>22.9</td>\n",
       "      <td>67</td>\n",
       "      <td>2023</td>\n",
       "      <td>02</td>\n",
       "      <td>25</td>\n",
       "      <td>09</td>\n",
       "    </tr>\n",
       "  </tbody>\n",
       "</table>\n",
       "<p>873 rows × 7 columns</p>\n",
       "</div>"
      ],
      "text/plain": [
       "                 Date  temperature  humidity  year month day time\n",
       "0    2023-01-20 01:43         21.0        74  2023    01  20   01\n",
       "1    2023-01-20 02:43         20.9        74  2023    01  20   02\n",
       "2    2023-01-20 03:43         20.8        74  2023    01  20   03\n",
       "3    2023-01-20 04:43         20.7        74  2023    01  20   04\n",
       "4    2023-01-20 05:43         20.7        74  2023    01  20   05\n",
       "..                ...          ...       ...   ...   ...  ..  ...\n",
       "868  2023-02-25 05:43         23.0        64  2023    02  25   05\n",
       "869  2023-02-25 06:43         22.7        64  2023    02  25   06\n",
       "870  2023-02-25 07:43         22.8        64  2023    02  25   07\n",
       "871  2023-02-25 08:43         22.6        65  2023    02  25   08\n",
       "872  2023-02-25 09:43         22.9        67  2023    02  25   09\n",
       "\n",
       "[873 rows x 7 columns]"
      ]
     },
     "execution_count": 67,
     "metadata": {},
     "output_type": "execute_result"
    }
   ],
   "source": [
    "df[\"year\"] = df['Date'].str[:4]\n",
    "df[\"month\"] = df['Date'].str[5:7]\n",
    "df[\"day\"] = df['Date'].str[8:10]\n",
    "df[\"time\"] = df['Date'].str[11:13]\n",
    "df"
   ]
  },
  {
   "cell_type": "code",
   "execution_count": 72,
   "id": "3e8bf5bc",
   "metadata": {},
   "outputs": [
    {
     "data": {
      "text/html": [
       "<div>\n",
       "<style scoped>\n",
       "    .dataframe tbody tr th:only-of-type {\n",
       "        vertical-align: middle;\n",
       "    }\n",
       "\n",
       "    .dataframe tbody tr th {\n",
       "        vertical-align: top;\n",
       "    }\n",
       "\n",
       "    .dataframe thead th {\n",
       "        text-align: right;\n",
       "    }\n",
       "</style>\n",
       "<table border=\"1\" class=\"dataframe\">\n",
       "  <thead>\n",
       "    <tr style=\"text-align: right;\">\n",
       "      <th></th>\n",
       "      <th>Date</th>\n",
       "      <th>temperature</th>\n",
       "      <th>humidity</th>\n",
       "      <th>year</th>\n",
       "      <th>month</th>\n",
       "      <th>day</th>\n",
       "      <th>time</th>\n",
       "      <th>new_date</th>\n",
       "    </tr>\n",
       "  </thead>\n",
       "  <tbody>\n",
       "    <tr>\n",
       "      <th>0</th>\n",
       "      <td>2023-01-20 01:43</td>\n",
       "      <td>21.0</td>\n",
       "      <td>74</td>\n",
       "      <td>2023</td>\n",
       "      <td>01</td>\n",
       "      <td>20</td>\n",
       "      <td>01</td>\n",
       "      <td>2023012001</td>\n",
       "    </tr>\n",
       "    <tr>\n",
       "      <th>1</th>\n",
       "      <td>2023-01-20 02:43</td>\n",
       "      <td>20.9</td>\n",
       "      <td>74</td>\n",
       "      <td>2023</td>\n",
       "      <td>01</td>\n",
       "      <td>20</td>\n",
       "      <td>02</td>\n",
       "      <td>2023012002</td>\n",
       "    </tr>\n",
       "    <tr>\n",
       "      <th>2</th>\n",
       "      <td>2023-01-20 03:43</td>\n",
       "      <td>20.8</td>\n",
       "      <td>74</td>\n",
       "      <td>2023</td>\n",
       "      <td>01</td>\n",
       "      <td>20</td>\n",
       "      <td>03</td>\n",
       "      <td>2023012003</td>\n",
       "    </tr>\n",
       "    <tr>\n",
       "      <th>3</th>\n",
       "      <td>2023-01-20 04:43</td>\n",
       "      <td>20.7</td>\n",
       "      <td>74</td>\n",
       "      <td>2023</td>\n",
       "      <td>01</td>\n",
       "      <td>20</td>\n",
       "      <td>04</td>\n",
       "      <td>2023012004</td>\n",
       "    </tr>\n",
       "    <tr>\n",
       "      <th>4</th>\n",
       "      <td>2023-01-20 05:43</td>\n",
       "      <td>20.7</td>\n",
       "      <td>74</td>\n",
       "      <td>2023</td>\n",
       "      <td>01</td>\n",
       "      <td>20</td>\n",
       "      <td>05</td>\n",
       "      <td>2023012005</td>\n",
       "    </tr>\n",
       "    <tr>\n",
       "      <th>...</th>\n",
       "      <td>...</td>\n",
       "      <td>...</td>\n",
       "      <td>...</td>\n",
       "      <td>...</td>\n",
       "      <td>...</td>\n",
       "      <td>...</td>\n",
       "      <td>...</td>\n",
       "      <td>...</td>\n",
       "    </tr>\n",
       "    <tr>\n",
       "      <th>868</th>\n",
       "      <td>2023-02-25 05:43</td>\n",
       "      <td>23.0</td>\n",
       "      <td>64</td>\n",
       "      <td>2023</td>\n",
       "      <td>02</td>\n",
       "      <td>25</td>\n",
       "      <td>05</td>\n",
       "      <td>2023022505</td>\n",
       "    </tr>\n",
       "    <tr>\n",
       "      <th>869</th>\n",
       "      <td>2023-02-25 06:43</td>\n",
       "      <td>22.7</td>\n",
       "      <td>64</td>\n",
       "      <td>2023</td>\n",
       "      <td>02</td>\n",
       "      <td>25</td>\n",
       "      <td>06</td>\n",
       "      <td>2023022506</td>\n",
       "    </tr>\n",
       "    <tr>\n",
       "      <th>870</th>\n",
       "      <td>2023-02-25 07:43</td>\n",
       "      <td>22.8</td>\n",
       "      <td>64</td>\n",
       "      <td>2023</td>\n",
       "      <td>02</td>\n",
       "      <td>25</td>\n",
       "      <td>07</td>\n",
       "      <td>2023022507</td>\n",
       "    </tr>\n",
       "    <tr>\n",
       "      <th>871</th>\n",
       "      <td>2023-02-25 08:43</td>\n",
       "      <td>22.6</td>\n",
       "      <td>65</td>\n",
       "      <td>2023</td>\n",
       "      <td>02</td>\n",
       "      <td>25</td>\n",
       "      <td>08</td>\n",
       "      <td>2023022508</td>\n",
       "    </tr>\n",
       "    <tr>\n",
       "      <th>872</th>\n",
       "      <td>2023-02-25 09:43</td>\n",
       "      <td>22.9</td>\n",
       "      <td>67</td>\n",
       "      <td>2023</td>\n",
       "      <td>02</td>\n",
       "      <td>25</td>\n",
       "      <td>09</td>\n",
       "      <td>2023022509</td>\n",
       "    </tr>\n",
       "  </tbody>\n",
       "</table>\n",
       "<p>873 rows × 8 columns</p>\n",
       "</div>"
      ],
      "text/plain": [
       "                 Date  temperature  humidity  year month day time    new_date\n",
       "0    2023-01-20 01:43         21.0        74  2023    01  20   01  2023012001\n",
       "1    2023-01-20 02:43         20.9        74  2023    01  20   02  2023012002\n",
       "2    2023-01-20 03:43         20.8        74  2023    01  20   03  2023012003\n",
       "3    2023-01-20 04:43         20.7        74  2023    01  20   04  2023012004\n",
       "4    2023-01-20 05:43         20.7        74  2023    01  20   05  2023012005\n",
       "..                ...          ...       ...   ...   ...  ..  ...         ...\n",
       "868  2023-02-25 05:43         23.0        64  2023    02  25   05  2023022505\n",
       "869  2023-02-25 06:43         22.7        64  2023    02  25   06  2023022506\n",
       "870  2023-02-25 07:43         22.8        64  2023    02  25   07  2023022507\n",
       "871  2023-02-25 08:43         22.6        65  2023    02  25   08  2023022508\n",
       "872  2023-02-25 09:43         22.9        67  2023    02  25   09  2023022509\n",
       "\n",
       "[873 rows x 8 columns]"
      ]
     },
     "execution_count": 72,
     "metadata": {},
     "output_type": "execute_result"
    }
   ],
   "source": [
    "df[\"new_date\"]=df['year'].str.cat(df['month'])\n",
    "df[\"new_date\"]=df['new_date'].str.cat(df['day'])\n",
    "df[\"new_date\"]=df['new_date'].str.cat(df['time'])\n",
    "df[\"new_date\"]=df['new_date'].astype(int)\n",
    "df"
   ]
  },
  {
   "cell_type": "code",
   "execution_count": 25,
   "id": "1e02508f",
   "metadata": {
    "collapsed": true
   },
   "outputs": [
    {
     "name": "stdout",
     "output_type": "stream",
     "text": [
      "Collecting scikit-learn\n",
      "  Downloading scikit_learn-1.2.1-cp310-cp310-macosx_12_0_arm64.whl (8.4 MB)\n",
      "\u001b[2K     \u001b[38;2;114;156;31m━━━━━━━━━━━━━━━━━━━━━━━━━━━━━━━━━━━━━━━━\u001b[0m \u001b[32m8.4/8.4 MB\u001b[0m \u001b[31m13.7 MB/s\u001b[0m eta \u001b[36m0:00:00\u001b[0mm eta \u001b[36m0:00:01\u001b[0m[36m0:00:01\u001b[0m\n",
      "\u001b[?25hCollecting scipy>=1.3.2\n",
      "  Downloading scipy-1.10.1-cp310-cp310-macosx_12_0_arm64.whl (28.8 MB)\n",
      "\u001b[2K     \u001b[38;2;114;156;31m━━━━━━━━━━━━━━━━━━━━━━━━━━━━━━━━━━━━━━━━\u001b[0m \u001b[32m28.8/28.8 MB\u001b[0m \u001b[31m21.0 MB/s\u001b[0m eta \u001b[36m0:00:00\u001b[0mm eta \u001b[36m0:00:01\u001b[0m0:01\u001b[0m:01\u001b[0m\n",
      "\u001b[?25hCollecting threadpoolctl>=2.0.0\n",
      "  Downloading threadpoolctl-3.1.0-py3-none-any.whl (14 kB)\n",
      "Collecting numpy>=1.17.3\n",
      "  Downloading numpy-1.24.2-cp310-cp310-macosx_11_0_arm64.whl (13.9 MB)\n",
      "\u001b[2K     \u001b[38;2;114;156;31m━━━━━━━━━━━━━━━━━━━━━━━━━━━━━━━━━━━━━━━━\u001b[0m \u001b[32m13.9/13.9 MB\u001b[0m \u001b[31m12.6 MB/s\u001b[0m eta \u001b[36m0:00:00\u001b[0mm eta \u001b[36m0:00:01\u001b[0m[36m0:00:01\u001b[0m\n",
      "\u001b[?25hCollecting joblib>=1.1.1\n",
      "  Downloading joblib-1.2.0-py3-none-any.whl (297 kB)\n",
      "\u001b[2K     \u001b[38;2;114;156;31m━━━━━━━━━━━━━━━━━━━━━━━━━━━━━━━━━━━━━━━\u001b[0m \u001b[32m298.0/298.0 kB\u001b[0m \u001b[31m8.7 MB/s\u001b[0m eta \u001b[36m0:00:00\u001b[0m\n",
      "\u001b[?25hInstalling collected packages: threadpoolctl, numpy, joblib, scipy, scikit-learn\n",
      "Successfully installed joblib-1.2.0 numpy-1.24.2 scikit-learn-1.2.1 scipy-1.10.1 threadpoolctl-3.1.0\n",
      "Note: you may need to restart the kernel to use updated packages.\n"
     ]
    }
   ],
   "source": [
    "pip install scikit-learn"
   ]
  },
  {
   "cell_type": "code",
   "execution_count": 26,
   "id": "223c654a",
   "metadata": {},
   "outputs": [],
   "source": [
    "from sklearn.linear_model import LinearRegression"
   ]
  },
  {
   "cell_type": "code",
   "execution_count": 77,
   "id": "614f5b65",
   "metadata": {},
   "outputs": [
    {
     "data": {
      "text/html": [
       "<style>#sk-container-id-3 {color: black;background-color: white;}#sk-container-id-3 pre{padding: 0;}#sk-container-id-3 div.sk-toggleable {background-color: white;}#sk-container-id-3 label.sk-toggleable__label {cursor: pointer;display: block;width: 100%;margin-bottom: 0;padding: 0.3em;box-sizing: border-box;text-align: center;}#sk-container-id-3 label.sk-toggleable__label-arrow:before {content: \"▸\";float: left;margin-right: 0.25em;color: #696969;}#sk-container-id-3 label.sk-toggleable__label-arrow:hover:before {color: black;}#sk-container-id-3 div.sk-estimator:hover label.sk-toggleable__label-arrow:before {color: black;}#sk-container-id-3 div.sk-toggleable__content {max-height: 0;max-width: 0;overflow: hidden;text-align: left;background-color: #f0f8ff;}#sk-container-id-3 div.sk-toggleable__content pre {margin: 0.2em;color: black;border-radius: 0.25em;background-color: #f0f8ff;}#sk-container-id-3 input.sk-toggleable__control:checked~div.sk-toggleable__content {max-height: 200px;max-width: 100%;overflow: auto;}#sk-container-id-3 input.sk-toggleable__control:checked~label.sk-toggleable__label-arrow:before {content: \"▾\";}#sk-container-id-3 div.sk-estimator input.sk-toggleable__control:checked~label.sk-toggleable__label {background-color: #d4ebff;}#sk-container-id-3 div.sk-label input.sk-toggleable__control:checked~label.sk-toggleable__label {background-color: #d4ebff;}#sk-container-id-3 input.sk-hidden--visually {border: 0;clip: rect(1px 1px 1px 1px);clip: rect(1px, 1px, 1px, 1px);height: 1px;margin: -1px;overflow: hidden;padding: 0;position: absolute;width: 1px;}#sk-container-id-3 div.sk-estimator {font-family: monospace;background-color: #f0f8ff;border: 1px dotted black;border-radius: 0.25em;box-sizing: border-box;margin-bottom: 0.5em;}#sk-container-id-3 div.sk-estimator:hover {background-color: #d4ebff;}#sk-container-id-3 div.sk-parallel-item::after {content: \"\";width: 100%;border-bottom: 1px solid gray;flex-grow: 1;}#sk-container-id-3 div.sk-label:hover label.sk-toggleable__label {background-color: #d4ebff;}#sk-container-id-3 div.sk-serial::before {content: \"\";position: absolute;border-left: 1px solid gray;box-sizing: border-box;top: 0;bottom: 0;left: 50%;z-index: 0;}#sk-container-id-3 div.sk-serial {display: flex;flex-direction: column;align-items: center;background-color: white;padding-right: 0.2em;padding-left: 0.2em;position: relative;}#sk-container-id-3 div.sk-item {position: relative;z-index: 1;}#sk-container-id-3 div.sk-parallel {display: flex;align-items: stretch;justify-content: center;background-color: white;position: relative;}#sk-container-id-3 div.sk-item::before, #sk-container-id-3 div.sk-parallel-item::before {content: \"\";position: absolute;border-left: 1px solid gray;box-sizing: border-box;top: 0;bottom: 0;left: 50%;z-index: -1;}#sk-container-id-3 div.sk-parallel-item {display: flex;flex-direction: column;z-index: 1;position: relative;background-color: white;}#sk-container-id-3 div.sk-parallel-item:first-child::after {align-self: flex-end;width: 50%;}#sk-container-id-3 div.sk-parallel-item:last-child::after {align-self: flex-start;width: 50%;}#sk-container-id-3 div.sk-parallel-item:only-child::after {width: 0;}#sk-container-id-3 div.sk-dashed-wrapped {border: 1px dashed gray;margin: 0 0.4em 0.5em 0.4em;box-sizing: border-box;padding-bottom: 0.4em;background-color: white;}#sk-container-id-3 div.sk-label label {font-family: monospace;font-weight: bold;display: inline-block;line-height: 1.2em;}#sk-container-id-3 div.sk-label-container {text-align: center;}#sk-container-id-3 div.sk-container {/* jupyter's `normalize.less` sets `[hidden] { display: none; }` but bootstrap.min.css set `[hidden] { display: none !important; }` so we also need the `!important` here to be able to override the default hidden behavior on the sphinx rendered scikit-learn.org. See: https://github.com/scikit-learn/scikit-learn/issues/21755 */display: inline-block !important;position: relative;}#sk-container-id-3 div.sk-text-repr-fallback {display: none;}</style><div id=\"sk-container-id-3\" class=\"sk-top-container\"><div class=\"sk-text-repr-fallback\"><pre>LinearRegression()</pre><b>In a Jupyter environment, please rerun this cell to show the HTML representation or trust the notebook. <br />On GitHub, the HTML representation is unable to render, please try loading this page with nbviewer.org.</b></div><div class=\"sk-container\" hidden><div class=\"sk-item\"><div class=\"sk-estimator sk-toggleable\"><input class=\"sk-toggleable__control sk-hidden--visually\" id=\"sk-estimator-id-3\" type=\"checkbox\" checked><label for=\"sk-estimator-id-3\" class=\"sk-toggleable__label sk-toggleable__label-arrow\">LinearRegression</label><div class=\"sk-toggleable__content\"><pre>LinearRegression()</pre></div></div></div></div></div>"
      ],
      "text/plain": [
       "LinearRegression()"
      ]
     },
     "execution_count": 77,
     "metadata": {},
     "output_type": "execute_result"
    }
   ],
   "source": [
    "lr = LinearRegression()\n",
    "\n",
    "X1 = maro[['new_date']].values         # 説明変数（Numpyの配列）\n",
    "Y = maro[['temperature']].values         # 目的変数（Numpyの配列）\n",
    "\n",
    "lr.fit(X1, Y)                        # 線形モデルの重みを学習"
   ]
  },
  {
   "cell_type": "code",
   "execution_count": 78,
   "id": "3d8b2c8c",
   "metadata": {},
   "outputs": [
    {
     "name": "stdout",
     "output_type": "stream",
     "text": [
      "coefficient =  [9.55270421e-05]\n",
      "intercept =  [-193230.85058964]\n"
     ]
    }
   ],
   "source": [
    "print('coefficient = ', lr.coef_[0]) # 説明変数の係数を出力\n",
    "print('intercept = ', lr.intercept_) # 切片を出力"
   ]
  },
  {
   "cell_type": "code",
   "execution_count": 82,
   "id": "7fa17584",
   "metadata": {},
   "outputs": [
    {
     "name": "stderr",
     "output_type": "stream",
     "text": [
      "/opt/homebrew/Cellar/jupyterlab/3.4.8/libexec/lib/python3.10/site-packages/IPython/core/pylabtools.py:151: UserWarning: Glyph 12465 (\\N{KATAKANA LETTER KE}) missing from current font.\n",
      "  fig.canvas.print_figure(bytes_io, **kw)\n",
      "/opt/homebrew/Cellar/jupyterlab/3.4.8/libexec/lib/python3.10/site-packages/IPython/core/pylabtools.py:151: UserWarning: Glyph 12540 (\\N{KATAKANA-HIRAGANA PROLONGED SOUND MARK}) missing from current font.\n",
      "  fig.canvas.print_figure(bytes_io, **kw)\n",
      "/opt/homebrew/Cellar/jupyterlab/3.4.8/libexec/lib/python3.10/site-packages/IPython/core/pylabtools.py:151: UserWarning: Glyph 12472 (\\N{KATAKANA LETTER ZI}) missing from current font.\n",
      "  fig.canvas.print_figure(bytes_io, **kw)\n",
      "/opt/homebrew/Cellar/jupyterlab/3.4.8/libexec/lib/python3.10/site-packages/IPython/core/pylabtools.py:151: UserWarning: Glyph 28201 (\\N{CJK UNIFIED IDEOGRAPH-6E29}) missing from current font.\n",
      "  fig.canvas.print_figure(bytes_io, **kw)\n",
      "/opt/homebrew/Cellar/jupyterlab/3.4.8/libexec/lib/python3.10/site-packages/IPython/core/pylabtools.py:151: UserWarning: Glyph 24230 (\\N{CJK UNIFIED IDEOGRAPH-5EA6}) missing from current font.\n",
      "  fig.canvas.print_figure(bytes_io, **kw)\n",
      "/opt/homebrew/Cellar/jupyterlab/3.4.8/libexec/lib/python3.10/site-packages/IPython/core/pylabtools.py:151: UserWarning: Glyph 12398 (\\N{HIRAGANA LETTER NO}) missing from current font.\n",
      "  fig.canvas.print_figure(bytes_io, **kw)\n",
      "/opt/homebrew/Cellar/jupyterlab/3.4.8/libexec/lib/python3.10/site-packages/IPython/core/pylabtools.py:151: UserWarning: Glyph 22793 (\\N{CJK UNIFIED IDEOGRAPH-5909}) missing from current font.\n",
      "  fig.canvas.print_figure(bytes_io, **kw)\n",
      "/opt/homebrew/Cellar/jupyterlab/3.4.8/libexec/lib/python3.10/site-packages/IPython/core/pylabtools.py:151: UserWarning: Glyph 21270 (\\N{CJK UNIFIED IDEOGRAPH-5316}) missing from current font.\n",
      "  fig.canvas.print_figure(bytes_io, **kw)\n",
      "/opt/homebrew/Cellar/jupyterlab/3.4.8/libexec/lib/python3.10/site-packages/IPython/core/pylabtools.py:151: UserWarning: Glyph 65297 (\\N{FULLWIDTH DIGIT ONE}) missing from current font.\n",
      "  fig.canvas.print_figure(bytes_io, **kw)\n",
      "/opt/homebrew/Cellar/jupyterlab/3.4.8/libexec/lib/python3.10/site-packages/IPython/core/pylabtools.py:151: UserWarning: Glyph 26376 (\\N{CJK UNIFIED IDEOGRAPH-6708}) missing from current font.\n",
      "  fig.canvas.print_figure(bytes_io, **kw)\n",
      "/opt/homebrew/Cellar/jupyterlab/3.4.8/libexec/lib/python3.10/site-packages/IPython/core/pylabtools.py:151: UserWarning: Glyph 12316 (\\N{WAVE DASH}) missing from current font.\n",
      "  fig.canvas.print_figure(bytes_io, **kw)\n",
      "/opt/homebrew/Cellar/jupyterlab/3.4.8/libexec/lib/python3.10/site-packages/IPython/core/pylabtools.py:151: UserWarning: Glyph 65298 (\\N{FULLWIDTH DIGIT TWO}) missing from current font.\n",
      "  fig.canvas.print_figure(bytes_io, **kw)\n",
      "/opt/homebrew/Cellar/jupyterlab/3.4.8/libexec/lib/python3.10/site-packages/IPython/core/pylabtools.py:151: UserWarning: Glyph 12414 (\\N{HIRAGANA LETTER MA}) missing from current font.\n",
      "  fig.canvas.print_figure(bytes_io, **kw)\n",
      "/opt/homebrew/Cellar/jupyterlab/3.4.8/libexec/lib/python3.10/site-packages/IPython/core/pylabtools.py:151: UserWarning: Glyph 12391 (\\N{HIRAGANA LETTER DE}) missing from current font.\n",
      "  fig.canvas.print_figure(bytes_io, **kw)\n",
      "/opt/homebrew/Cellar/jupyterlab/3.4.8/libexec/lib/python3.10/site-packages/IPython/core/pylabtools.py:151: UserWarning: Glyph 26399 (\\N{CJK UNIFIED IDEOGRAPH-671F}) missing from current font.\n",
      "  fig.canvas.print_figure(bytes_io, **kw)\n",
      "/opt/homebrew/Cellar/jupyterlab/3.4.8/libexec/lib/python3.10/site-packages/IPython/core/pylabtools.py:151: UserWarning: Glyph 38291 (\\N{CJK UNIFIED IDEOGRAPH-9593}) missing from current font.\n",
      "  fig.canvas.print_figure(bytes_io, **kw)\n"
     ]
    },
    {
     "data": {
      "image/png": "[encoded data removed]",
      "text/plain": [
       "<Figure size 640x480 with 1 Axes>"
      ]
     },
     "metadata": {},
     "output_type": "display_data"
    }
   ],
   "source": [
    "plt.scatter(X1, Y, color = 'blue')         # 説明変数と目的変数のデータ点の散布図をプロット\n",
    "plt.plot(X1, lr.predict(X1), color = 'red') # 回帰直線をプロット\n",
    "\n",
    "plt.title('Regression Line')               # 図のタイトル\n",
    "plt.xlabel('１１月〜２月までの期間') # x軸のラベル\n",
    "plt.ylabel('ケージ温度の変化')    # y軸のラベル\n",
    "plt.grid()                                 # グリッド線を表示\n",
    "\n",
    "plt.show()                                 # 図の表示"
   ]
  },
  {
   "cell_type": "code",
   "execution_count": 84,
   "id": "cf787532",
   "metadata": {},
   "outputs": [
    {
     "data": {
      "text/plain": [
       "(array([  5.,  14.,  31.,  61.,  89., 167., 212., 150., 104.,  40.]),\n",
       " array([18.8 , 19.34, 19.88, 20.42, 20.96, 21.5 , 22.04, 22.58, 23.12,\n",
       "        23.66, 24.2 ]),\n",
       " <BarContainer object of 10 artists>)"
      ]
     },
     "execution_count": 84,
     "metadata": {},
     "output_type": "execute_result"
    },
    {
     "data": {
      "image/png": "[encoded data removed]",
      "text/plain": [
       "<Figure size 640x480 with 1 Axes>"
      ]
     },
     "metadata": {},
     "output_type": "display_data"
    }
   ],
   "source": [
    "plt.hist(df['temperature'])"
   ]
  },
  {
   "cell_type": "code",
   "execution_count": null,
   "id": "fc7b91d8",
   "metadata": {},
   "outputs": [],
   "source": []
  },
  {
   "cell_type": "code",
   "execution_count": null,
   "id": "862375e1",
   "metadata": {},
   "outputs": [],
   "source": []
  },
  {
   "cell_type": "code",
   "execution_count": null,
   "id": "1a826693",
   "metadata": {},
   "outputs": [],
   "source": []
  },
  {
   "cell_type": "code",
   "execution_count": 4,
   "id": "ee8c4714",
   "metadata": {},
   "outputs": [],
   "source": []
  },
  {
   "cell_type": "code",
   "execution_count": null,
   "id": "381e96f3",
   "metadata": {},
   "outputs": [],
   "source": []
  },
  {
   "cell_type": "code",
   "execution_count": null,
   "id": "4f267987",
   "metadata": {},
   "outputs": [],
   "source": []
  },
  {
   "cell_type": "markdown",
   "id": "88975a70",
   "metadata": {},
   "source": [
    "Scikit-learn で線形回帰\n",
    "https://qiita.com/0NE_shoT_/items/08376b08783cd554b02e\n",
    "\n",
    "【Python】日付型データから年・月・日を取り出す方法｜datetime\n",
    "https://smart-hint.com/python/datetime-ymd/\n",
    "\n",
    "pandasで文字列にスライスを適用して任意の位置・長さの部分を抽出\n",
    "https://note.nkmk.me/python-pandas-str-combine/\n",
    "\n",
    "pandas.DataFrameの複数の列の文字列を結合して新たな列を生成\n",
    "https://note.nkmk.me/python-pandas-str-combine/"
   ]
  }
 ],
 "metadata": {
  "kernelspec": {
   "display_name": "Python 3 (ipykernel)",
   "language": "python",
   "name": "python3"
  },
  "language_info": {
   "codemirror_mode": {
    "name": "ipython",
    "version": 3
   },
   "file_extension": ".py",
   "mimetype": "text/x-python",
   "name": "python",
   "nbconvert_exporter": "python",
   "pygments_lexer": "ipython3",
   "version": "3.10.8"
  }
 },
 "nbformat": 4,
 "nbformat_minor": 5
}
