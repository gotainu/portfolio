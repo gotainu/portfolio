{
 "cells": [
  {
   "cell_type": "markdown",
   "metadata": {},
   "source": [
    "# 3　統計的実験計画におけるベイズ最適化"
   ]
  },
  {
   "cell_type": "markdown",
   "metadata": {},
   "source": [
    "**課題**　ある材質は、硬度と粘度の2つの値から劣化促進度が決まることが知られています。そこで、ある会社はなるべく劣化促進度の低い材質を作るための硬度と粘度を効率的に探索したいと考えています。なお、事前実験によって5つの（硬度、粘度）の組については、その劣化促進度をデータとして持っているものとします。\n",
    "\n",
    "以下では、この課題に対してベイズ最適化によるアプローチを検討します。"
   ]
  },
  {
   "cell_type": "code",
   "execution_count": 2,
   "metadata": {},
   "outputs": [],
   "source": [
    "import sys\n",
    "sys.path.append(\"/Users/gonakazawa/.pyenv/versions/3.10.6/lib/python3.10/site-packages\")"
   ]
  },
  {
   "cell_type": "code",
   "execution_count": 6,
   "metadata": {
    "scrolled": true
   },
   "outputs": [
    {
     "name": "stdout",
     "output_type": "stream",
     "text": [
      "Requirement already satisfied: matplotlib in /Users/gonakazawa/.pyenv/versions/3.10.6/lib/python3.10/site-packages (3.6.3)\n",
      "Requirement already satisfied: numpy>=1.19 in /Users/gonakazawa/.pyenv/versions/3.10.6/lib/python3.10/site-packages (from matplotlib) (1.23.3)\n",
      "Requirement already satisfied: kiwisolver>=1.0.1 in /Users/gonakazawa/.pyenv/versions/3.10.6/lib/python3.10/site-packages (from matplotlib) (1.4.4)\n",
      "Requirement already satisfied: packaging>=20.0 in /Users/gonakazawa/.pyenv/versions/3.10.6/lib/python3.10/site-packages (from matplotlib) (21.3)\n",
      "Requirement already satisfied: python-dateutil>=2.7 in /Users/gonakazawa/.pyenv/versions/3.10.6/lib/python3.10/site-packages (from matplotlib) (2.8.2)\n",
      "Requirement already satisfied: fonttools>=4.22.0 in /Users/gonakazawa/.pyenv/versions/3.10.6/lib/python3.10/site-packages (from matplotlib) (4.38.0)\n",
      "Requirement already satisfied: pyparsing>=2.2.1 in /Users/gonakazawa/.pyenv/versions/3.10.6/lib/python3.10/site-packages (from matplotlib) (3.0.9)\n",
      "Requirement already satisfied: cycler>=0.10 in /Users/gonakazawa/.pyenv/versions/3.10.6/lib/python3.10/site-packages (from matplotlib) (0.11.0)\n",
      "Requirement already satisfied: contourpy>=1.0.1 in /Users/gonakazawa/.pyenv/versions/3.10.6/lib/python3.10/site-packages (from matplotlib) (1.0.7)\n",
      "Requirement already satisfied: pillow>=6.2.0 in /Users/gonakazawa/.pyenv/versions/3.10.6/lib/python3.10/site-packages (from matplotlib) (9.2.0)\n",
      "Requirement already satisfied: six>=1.5 in /Users/gonakazawa/.pyenv/versions/3.10.6/lib/python3.10/site-packages (from python-dateutil>=2.7->matplotlib) (1.16.0)\n",
      "Requirement already satisfied: GPy in /Users/gonakazawa/.pyenv/versions/3.10.6/lib/python3.10/site-packages (1.10.0)\n",
      "Requirement already satisfied: numpy>=1.7 in /Users/gonakazawa/.pyenv/versions/3.10.6/lib/python3.10/site-packages (from GPy) (1.23.3)\n",
      "Requirement already satisfied: six in /Users/gonakazawa/.pyenv/versions/3.10.6/lib/python3.10/site-packages (from GPy) (1.16.0)\n",
      "Requirement already satisfied: paramz>=0.9.0 in /Users/gonakazawa/.pyenv/versions/3.10.6/lib/python3.10/site-packages (from GPy) (0.9.5)\n",
      "Requirement already satisfied: cython>=0.29 in /Users/gonakazawa/.pyenv/versions/3.10.6/lib/python3.10/site-packages (from GPy) (0.29.33)\n",
      "Requirement already satisfied: scipy>=1.3.0 in /Users/gonakazawa/.pyenv/versions/3.10.6/lib/python3.10/site-packages (from GPy) (1.10.0)\n",
      "Requirement already satisfied: decorator>=4.0.10 in /Users/gonakazawa/.pyenv/versions/3.10.6/lib/python3.10/site-packages (from paramz>=0.9.0->GPy) (5.1.1)\n",
      "Collecting GPyOpt\n",
      "  Downloading GPyOpt-1.2.6.tar.gz (56 kB)\n",
      "\u001b[2K     \u001b[38;2;114;156;31m━━━━━━━━━━━━━━━━━━━━━━━━━━━━━━━━━━━━━━━━\u001b[0m \u001b[32m56.8/56.8 kB\u001b[0m \u001b[31m2.0 MB/s\u001b[0m eta \u001b[36m0:00:00\u001b[0m\n",
      "\u001b[?25h  Preparing metadata (setup.py) ... \u001b[?25ldone\n",
      "\u001b[?25hRequirement already satisfied: numpy>=1.7 in /Users/gonakazawa/.pyenv/versions/3.10.6/lib/python3.10/site-packages (from GPyOpt) (1.23.3)\n",
      "Requirement already satisfied: scipy>=0.16 in /Users/gonakazawa/.pyenv/versions/3.10.6/lib/python3.10/site-packages (from GPyOpt) (1.10.0)\n",
      "Requirement already satisfied: GPy>=1.8 in /Users/gonakazawa/.pyenv/versions/3.10.6/lib/python3.10/site-packages (from GPyOpt) (1.10.0)\n",
      "Requirement already satisfied: six in /Users/gonakazawa/.pyenv/versions/3.10.6/lib/python3.10/site-packages (from GPy>=1.8->GPyOpt) (1.16.0)\n",
      "Requirement already satisfied: paramz>=0.9.0 in /Users/gonakazawa/.pyenv/versions/3.10.6/lib/python3.10/site-packages (from GPy>=1.8->GPyOpt) (0.9.5)\n",
      "Requirement already satisfied: cython>=0.29 in /Users/gonakazawa/.pyenv/versions/3.10.6/lib/python3.10/site-packages (from GPy>=1.8->GPyOpt) (0.29.33)\n",
      "Requirement already satisfied: decorator>=4.0.10 in /Users/gonakazawa/.pyenv/versions/3.10.6/lib/python3.10/site-packages (from paramz>=0.9.0->GPy>=1.8->GPyOpt) (5.1.1)\n",
      "Installing collected packages: GPyOpt\n",
      "\u001b[33m  DEPRECATION: GPyOpt is being installed using the legacy 'setup.py install' method, because it does not have a 'pyproject.toml' and the 'wheel' package is not installed. pip 23.1 will enforce this behaviour change. A possible replacement is to enable the '--use-pep517' option. Discussion can be found at https://github.com/pypa/pip/issues/8559\u001b[0m\u001b[33m\n",
      "\u001b[0m  Running setup.py install for GPyOpt ... \u001b[?25ldone\n",
      "\u001b[?25hSuccessfully installed GPyOpt-1.2.6\n"
     ]
    }
   ],
   "source": [
    "!pip install matplotlib\n",
    "!pip install GPy\n",
    "!pip install GPyOpt"
   ]
  },
  {
   "cell_type": "code",
   "execution_count": null,
   "metadata": {},
   "outputs": [],
   "source": []
  },
  {
   "cell_type": "code",
   "execution_count": 7,
   "metadata": {},
   "outputs": [],
   "source": [
    "# import文\n",
    "import numpy as np\n",
    "import pandas as pd\n",
    "\n",
    "import GPy\n",
    "import GPyOpt\n",
    "from GPyOpt.methods import BayesianOptimization"
   ]
  },
  {
   "cell_type": "markdown",
   "metadata": {},
   "source": [
    "## 3.1　事前実験"
   ]
  },
  {
   "cell_type": "code",
   "execution_count": 8,
   "metadata": {},
   "outputs": [
    {
     "data": {
      "text/html": [
       "<div>\n",
       "<style scoped>\n",
       "    .dataframe tbody tr th:only-of-type {\n",
       "        vertical-align: middle;\n",
       "    }\n",
       "\n",
       "    .dataframe tbody tr th {\n",
       "        vertical-align: top;\n",
       "    }\n",
       "\n",
       "    .dataframe thead th {\n",
       "        text-align: right;\n",
       "    }\n",
       "</style>\n",
       "<table border=\"1\" class=\"dataframe\">\n",
       "  <thead>\n",
       "    <tr style=\"text-align: right;\">\n",
       "      <th></th>\n",
       "      <th>x1</th>\n",
       "      <th>x2</th>\n",
       "      <th>y</th>\n",
       "    </tr>\n",
       "  </thead>\n",
       "  <tbody>\n",
       "    <tr>\n",
       "      <th>0</th>\n",
       "      <td>-3.0</td>\n",
       "      <td>-2.0</td>\n",
       "      <td>162.900</td>\n",
       "    </tr>\n",
       "    <tr>\n",
       "      <th>1</th>\n",
       "      <td>-2.4</td>\n",
       "      <td>-2.0</td>\n",
       "      <td>69.868</td>\n",
       "    </tr>\n",
       "    <tr>\n",
       "      <th>2</th>\n",
       "      <td>-1.8</td>\n",
       "      <td>-2.0</td>\n",
       "      <td>53.852</td>\n",
       "    </tr>\n",
       "    <tr>\n",
       "      <th>3</th>\n",
       "      <td>-1.2</td>\n",
       "      <td>-2.0</td>\n",
       "      <td>52.801</td>\n",
       "    </tr>\n",
       "    <tr>\n",
       "      <th>4</th>\n",
       "      <td>-0.6</td>\n",
       "      <td>-2.0</td>\n",
       "      <td>50.383</td>\n",
       "    </tr>\n",
       "  </tbody>\n",
       "</table>\n",
       "</div>"
      ],
      "text/plain": [
       "    x1   x2        y\n",
       "0 -3.0 -2.0  162.900\n",
       "1 -2.4 -2.0   69.868\n",
       "2 -1.8 -2.0   53.852\n",
       "3 -1.2 -2.0   52.801\n",
       "4 -0.6 -2.0   50.383"
      ]
     },
     "execution_count": 8,
     "metadata": {},
     "output_type": "execute_result"
    }
   ],
   "source": [
    "data = pd.read_csv(\"./data/pre_experiment.csv\")\n",
    "data.head(n = 5)"
   ]
  },
  {
   "cell_type": "code",
   "execution_count": 9,
   "metadata": {},
   "outputs": [],
   "source": [
    "# GPyOptにわたすために、入力Xと出力yをどちらも2次元配列で準備する。\n",
    "# sklearnは出力が1次元なので、準備の仕方が異なることに注意。\n",
    "X, Y = data[[\"x1\", \"x2\"]].values, data[[\"y\"]].values"
   ]
  },
  {
   "cell_type": "markdown",
   "metadata": {},
   "source": [
    "## 3.2　諸設定"
   ]
  },
  {
   "cell_type": "markdown",
   "metadata": {},
   "source": [
    "探索範囲を指定する。今回は、硬度(x1)は-3<x1<3で、粘度(x2)は-2<x2<2で探索する。"
   ]
  },
  {
   "cell_type": "code",
   "execution_count": 10,
   "metadata": {},
   "outputs": [],
   "source": [
    "domain = [{\"name\" : \"x1\", \"type\" : \"continuous\", \"domain\" : (-3, 3)},\n",
    "          {\"name\" : \"x2\", \"type\" : \"continuous\", \"domain\" : (-2, 2)}]    # boundsと名付ける人もいます。"
   ]
  },
  {
   "cell_type": "code",
   "execution_count": 11,
   "metadata": {},
   "outputs": [],
   "source": [
    "kernel = GPy.kern.Matern52(input_dim = 2)"
   ]
  },
  {
   "cell_type": "markdown",
   "metadata": {},
   "source": [
    "## 3.3　ガウス過程回帰モデルの学習"
   ]
  },
  {
   "cell_type": "markdown",
   "metadata": {},
   "source": [
    "実際の実験に`BayesianOptimization`クラスを援用するには、関数`f`を実験後に外部から入力できるように実装する必要があります。それが以下のスクリプトです。"
   ]
  },
  {
   "cell_type": "code",
   "execution_count": 12,
   "metadata": {},
   "outputs": [],
   "source": [
    "# 外部からの出力yの観測値の入力フォームを実装する。\n",
    "try_ = 1\n",
    "\n",
    "def f(x):    # x : BayesOptimizationクラスから次の実験候補が渡される場所。\n",
    "    global try_    # globalスコープ : 関数fの外で定義されたtry_を使っていきます。\n",
    "\n",
    "    print(\"Try : \" , try_ , \"next x is \", x)\n",
    "    #score = float(input(\"Input y : \"))    # 入力フォーム\n",
    "    y = float(input(\"Input y : \"))\n",
    "    score = (y - 5)**2\n",
    "\n",
    "    try_ += 1\n",
    "\n",
    "    return score"
   ]
  },
  {
   "cell_type": "code",
   "execution_count": 14,
   "metadata": {},
   "outputs": [],
   "source": [
    "opt = BayesianOptimization(f = None,    # new1 : ここは未知。実装が変わります。上記。\n",
    "                           domain = domain,\n",
    "                           X = X,    # new2 : 事前実験の結果はX, Yに指定します。X:入力, Y:出力。\n",
    "                           Y = Y,    # new2\n",
    "                           normalize_Y = False, #関数値を出力するときに正規化するか？\n",
    "                           initial_design_numdata = 0,    # new2\n",
    "                           kernel = kernel,\n",
    "                           aquisition_type = \"EI\", \n",
    "                           exact_feval = False)    # Falseで出力yの観測値にノイズがのっている前提になります。"
   ]
  },
  {
   "cell_type": "markdown",
   "metadata": {},
   "source": [
    "## 3.4　次の探索候補の提案と最適解の求解"
   ]
  },
  {
   "cell_type": "markdown",
   "metadata": {},
   "source": [
    "以下のスクリプトは、\n",
    "\n",
    "1. 事前に与えられたデータで関数のモデルを推定\n",
    "2. 得られた関数モデルから次の実験候補を1つ提案\n",
    "3. 私達が、その実験の結果を入力\n",
    "4. 関数モデルを更新\n",
    "\n",
    "という4つのステップを行います。"
   ]
  },
  {
   "cell_type": "code",
   "execution_count": 15,
   "metadata": {},
   "outputs": [
    {
     "ename": "InvalidConfigError",
     "evalue": "Cannot run the optimization loop without the objective function",
     "output_type": "error",
     "traceback": [
      "\u001b[0;31m---------------------------------------------------------------------------\u001b[0m",
      "\u001b[0;31mInvalidConfigError\u001b[0m                        Traceback (most recent call last)",
      "Cell \u001b[0;32mIn [15], line 1\u001b[0m\n\u001b[0;32m----> 1\u001b[0m opt\u001b[38;5;241m.\u001b[39mrun_optimization(max_iter \u001b[38;5;241m=\u001b[39m \u001b[38;5;241m3\u001b[39m)\n",
      "File \u001b[0;32m~/.pyenv/versions/3.10.6/lib/python3.10/site-packages/GPyOpt/core/bo.py:88\u001b[0m, in \u001b[0;36mBO.run_optimization\u001b[0;34m(self, max_iter, max_time, eps, context, verbosity, save_models_parameters, report_file, evaluations_file, models_file)\u001b[0m\n\u001b[1;32m     74\u001b[0m \u001b[38;5;124;03m\"\"\"\u001b[39;00m\n\u001b[1;32m     75\u001b[0m \u001b[38;5;124;03mRuns Bayesian Optimization for a number 'max_iter' of iterations (after the initial exploration data)\u001b[39;00m\n\u001b[1;32m     76\u001b[0m \n\u001b[0;32m   (...)\u001b[0m\n\u001b[1;32m     84\u001b[0m \u001b[38;5;124;03m:param models_file: file to which the model parameters are saved (default, None).\u001b[39;00m\n\u001b[1;32m     85\u001b[0m \u001b[38;5;124;03m\"\"\"\u001b[39;00m\n\u001b[1;32m     87\u001b[0m \u001b[38;5;28;01mif\u001b[39;00m \u001b[38;5;28mself\u001b[39m\u001b[38;5;241m.\u001b[39mobjective \u001b[38;5;129;01mis\u001b[39;00m \u001b[38;5;28;01mNone\u001b[39;00m:\n\u001b[0;32m---> 88\u001b[0m     \u001b[38;5;28;01mraise\u001b[39;00m InvalidConfigError(\u001b[38;5;124m\"\u001b[39m\u001b[38;5;124mCannot run the optimization loop without the objective function\u001b[39m\u001b[38;5;124m\"\u001b[39m)\n\u001b[1;32m     90\u001b[0m \u001b[38;5;66;03m# --- Save the options to print and save the results\u001b[39;00m\n\u001b[1;32m     91\u001b[0m \u001b[38;5;28mself\u001b[39m\u001b[38;5;241m.\u001b[39mverbosity \u001b[38;5;241m=\u001b[39m verbosity\n",
      "\u001b[0;31mInvalidConfigError\u001b[0m: Cannot run the optimization loop without the objective function"
     ]
    }
   ],
   "source": [
    "opt.run_optimization(max_iter = 3)"
   ]
  },
  {
   "cell_type": "code",
   "execution_count": 9,
   "metadata": {},
   "outputs": [
    {
     "data": {
      "text/plain": [
       "(array([ 0.0211697 , -0.54210991]), -0.9346822)"
      ]
     },
     "execution_count": 9,
     "metadata": {},
     "output_type": "execute_result"
    }
   ],
   "source": [
    "opt.x_opt, opt.fx_opt"
   ]
  },
  {
   "cell_type": "markdown",
   "metadata": {},
   "source": [
    "## 3.5　収束の確認"
   ]
  },
  {
   "cell_type": "code",
   "execution_count": 10,
   "metadata": {},
   "outputs": [
    {
     "data": {
      "image/png": "[encoded data removed]",
      "text/plain": [
       "<Figure size 720x360 with 2 Axes>"
      ]
     },
     "metadata": {
      "needs_background": "light"
     },
     "output_type": "display_data"
    }
   ],
   "source": [
    "opt.plot_convergence()"
   ]
  },
  {
   "cell_type": "code",
   "execution_count": 26,
   "metadata": {},
   "outputs": [
    {
     "data": {
      "text/plain": [
       "-607.0206426626003"
      ]
     },
     "execution_count": 26,
     "metadata": {},
     "output_type": "execute_result"
    }
   ],
   "source": [
    "from sklearn.metrics import r2_score\n",
    "r2_score(opt.model.predict(opt.X)[0].reshape(-1), opt.Y.reshape(-1))"
   ]
  },
  {
   "cell_type": "markdown",
   "metadata": {},
   "source": [
    "事後分布の標準偏差を確認することで、どの（硬度、粘度）の値に対して、私達がまだ十分に実験できていないかを確認することができます。"
   ]
  },
  {
   "cell_type": "code",
   "execution_count": null,
   "metadata": {},
   "outputs": [],
   "source": [
    "opt.plot_acquisition()"
   ]
  },
  {
   "cell_type": "code",
   "execution_count": null,
   "metadata": {},
   "outputs": [],
   "source": [
    "opt.suggest_next_locations()"
   ]
  }
 ],
 "metadata": {
  "kernelspec": {
   "display_name": "Python 3 (ipykernel)",
   "language": "python",
   "name": "python3"
  },
  "language_info": {
   "codemirror_mode": {
    "name": "ipython",
    "version": 3
   },
   "file_extension": ".py",
   "mimetype": "text/x-python",
   "name": "python",
   "nbconvert_exporter": "python",
   "pygments_lexer": "ipython3",
   "version": "3.10.8"
  }
 },
 "nbformat": 4,
 "nbformat_minor": 4
}
