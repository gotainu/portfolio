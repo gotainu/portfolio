{
 "cells": [
  {
   "cell_type": "code",
   "execution_count": 1,
   "id": "cb25d71b",
   "metadata": {},
   "outputs": [
    {
     "name": "stdout",
     "output_type": "stream",
     "text": [
      "Requirement already satisfied: pandas in /Users/gonakazawa/.pyenv/versions/3.10.6/lib/python3.10/site-packages (1.4.4)\r\n",
      "Requirement already satisfied: python-dateutil>=2.8.1 in /Users/gonakazawa/.pyenv/versions/3.10.6/lib/python3.10/site-packages (from pandas) (2.8.2)\r\n",
      "Requirement already satisfied: numpy>=1.21.0 in /Users/gonakazawa/.pyenv/versions/3.10.6/lib/python3.10/site-packages (from pandas) (1.23.3)\r\n",
      "Requirement already satisfied: pytz>=2020.1 in /Users/gonakazawa/.pyenv/versions/3.10.6/lib/python3.10/site-packages (from pandas) (2022.2.1)\r\n",
      "Requirement already satisfied: six>=1.5 in /Users/gonakazawa/.pyenv/versions/3.10.6/lib/python3.10/site-packages (from python-dateutil>=2.8.1->pandas) (1.16.0)\r\n"
     ]
    }
   ],
   "source": [
    "!pip install pandas"
   ]
  },
  {
   "cell_type": "code",
   "execution_count": 9,
   "id": "a8bfbb87",
   "metadata": {},
   "outputs": [],
   "source": [
    "import pandas as pd"
   ]
  },
  {
   "cell_type": "code",
   "execution_count": 10,
   "id": "68b97357",
   "metadata": {},
   "outputs": [
    {
     "name": "stdout",
     "output_type": "stream",
     "text": [
      "Package                                       Version\r\n",
      "--------------------------------------------- -----------\r\n",
      "altair                                        4.2.0\r\n",
      "appdirs                                       1.4.4\r\n",
      "attrs                                         22.1.0\r\n",
      "azure-cognitiveservices-vision-computervision 0.9.0\r\n",
      "azure-common                                  1.1.28\r\n",
      "azure-core                                    1.26.0\r\n",
      "blinker                                       1.5\r\n",
      "cachetools                                    5.2.0\r\n",
      "certifi                                       2022.6.15.1\r\n",
      "charset-normalizer                            2.1.1\r\n",
      "click                                         8.1.3\r\n",
      "commonmark                                    0.9.1\r\n",
      "decorator                                     5.1.1\r\n",
      "entrypoints                                   0.4\r\n",
      "gitdb                                         4.0.9\r\n",
      "GitPython                                     3.1.27\r\n",
      "idna                                          3.3\r\n",
      "importlib-metadata                            4.12.0\r\n",
      "install                                       1.3.5\r\n",
      "isodate                                       0.6.1\r\n",
      "Jinja2                                        3.1.2\r\n",
      "jsonschema                                    4.16.0\r\n",
      "lxml                                          4.9.1\r\n",
      "MarkupSafe                                    2.1.1\r\n",
      "msrest                                        0.7.1\r\n",
      "multitasking                                  0.0.11\r\n",
      "numpy                                         1.23.3\r\n",
      "oauthlib                                      3.2.2\r\n",
      "packaging                                     21.3\r\n",
      "pandas                                        1.4.4\r\n",
      "Pillow                                        9.2.0\r\n",
      "pip                                           22.3\r\n",
      "protobuf                                      3.20.1\r\n",
      "pyarrow                                       9.0.0\r\n",
      "pydeck                                        0.8.0b3\r\n",
      "Pygments                                      2.13.0\r\n",
      "Pympler                                       1.0.1\r\n",
      "pyparsing                                     3.0.9\r\n",
      "pyrsistent                                    0.18.1\r\n",
      "python-dateutil                               2.8.2\r\n",
      "pytz                                          2022.2.1\r\n",
      "pytz-deprecation-shim                         0.1.0.post0\r\n",
      "requests                                      2.28.1\r\n",
      "requests-oauthlib                             1.3.1\r\n",
      "rich                                          12.5.1\r\n",
      "semver                                        2.13.0\r\n",
      "setuptools                                    63.2.0\r\n",
      "six                                           1.16.0\r\n",
      "smmap                                         5.0.0\r\n",
      "streamlit                                     1.12.2\r\n",
      "toml                                          0.10.2\r\n",
      "toolz                                         0.12.0\r\n",
      "tornado                                       6.2\r\n",
      "typing_extensions                             4.3.0\r\n",
      "tzdata                                        2022.2\r\n",
      "tzlocal                                       4.2\r\n",
      "urllib3                                       1.26.12\r\n",
      "validators                                    0.20.0\r\n",
      "yfinance                                      0.1.77\r\n",
      "zipp                                          3.8.1\r\n"
     ]
    }
   ],
   "source": [
    "!pip list"
   ]
  },
  {
   "cell_type": "code",
   "execution_count": 11,
   "id": "0a44569f",
   "metadata": {},
   "outputs": [
    {
     "name": "stdout",
     "output_type": "stream",
     "text": [
      "Name: pandas\r\n",
      "Version: 1.4.4\r\n",
      "Summary: Powerful data structures for data analysis, time series, and statistics\r\n",
      "Home-page: https://pandas.pydata.org\r\n",
      "Author: The Pandas Development Team\r\n",
      "Author-email: pandas-dev@python.org\r\n",
      "License: BSD-3-Clause\r\n",
      "Location: /Users/gonakazawa/.pyenv/versions/3.10.6/lib/python3.10/site-packages\r\n",
      "Requires: numpy, python-dateutil, pytz\r\n",
      "Required-by: altair, streamlit, yfinance\r\n"
     ]
    }
   ],
   "source": [
    "!pip show pandas"
   ]
  },
  {
   "cell_type": "code",
   "execution_count": 5,
   "id": "45234490",
   "metadata": {},
   "outputs": [
    {
     "data": {
      "text/plain": [
       "['/Users/gonakazawa/Documents/go/dev_environments/02_物体検出アプリ',\n",
       " '/opt/homebrew/Cellar/python@3.10/3.10.8/Frameworks/Python.framework/Versions/3.10/lib/python310.zip',\n",
       " '/opt/homebrew/Cellar/python@3.10/3.10.8/Frameworks/Python.framework/Versions/3.10/lib/python3.10',\n",
       " '/opt/homebrew/Cellar/python@3.10/3.10.8/Frameworks/Python.framework/Versions/3.10/lib/python3.10/lib-dynload',\n",
       " '',\n",
       " '/opt/homebrew/Cellar/jupyterlab/3.4.8/libexec/lib/python3.10/site-packages',\n",
       " '/opt/homebrew/opt/six/lib/python3.10/site-packages',\n",
       " '/opt/homebrew/lib/python3.10/site-packages']"
      ]
     },
     "execution_count": 5,
     "metadata": {},
     "output_type": "execute_result"
    }
   ],
   "source": [
    "import sys\n",
    "sys.path"
   ]
  },
  {
   "cell_type": "code",
   "execution_count": 7,
   "id": "b776cb45",
   "metadata": {},
   "outputs": [],
   "source": [
    "sys.path.append('/Users/gonakazawa/.pyenv/versions/3.10.6/lib/python3.10/site-packages')"
   ]
  },
  {
   "cell_type": "code",
   "execution_count": 8,
   "id": "3b679b7f",
   "metadata": {},
   "outputs": [],
   "source": [
    "import pandas as pd"
   ]
  }
 ],
 "metadata": {
  "kernelspec": {
   "display_name": "Python 3 (ipykernel)",
   "language": "python",
   "name": "python3"
  },
  "language_info": {
   "codemirror_mode": {
    "name": "ipython",
    "version": 3
   },
   "file_extension": ".py",
   "mimetype": "text/x-python",
   "name": "python",
   "nbconvert_exporter": "python",
   "pygments_lexer": "ipython3",
   "version": "3.10.8"
  }
 },
 "nbformat": 4,
 "nbformat_minor": 5
}
