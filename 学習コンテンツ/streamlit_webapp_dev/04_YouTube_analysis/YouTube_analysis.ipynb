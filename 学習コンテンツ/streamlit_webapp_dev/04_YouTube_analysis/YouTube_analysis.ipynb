{
 "cells": [
  {
   "cell_type": "code",
   "execution_count": 79,
   "id": "d0d91df3",
   "metadata": {
    "scrolled": true
   },
   "outputs": [
    {
     "name": "stdout",
     "output_type": "stream",
     "text": [
      "Requirement already satisfied: google-api-python-client in /Users/gonakazawa/.pyenv/versions/3.10.6/lib/python3.10/site-packages (2.65.0)\n",
      "Requirement already satisfied: google-auth<3.0.0dev,>=1.19.0 in /Users/gonakazawa/.pyenv/versions/3.10.6/lib/python3.10/site-packages (from google-api-python-client) (2.14.0)\n",
      "Requirement already satisfied: httplib2<1dev,>=0.15.0 in /Users/gonakazawa/.pyenv/versions/3.10.6/lib/python3.10/site-packages (from google-api-python-client) (0.21.0)\n",
      "Requirement already satisfied: uritemplate<5,>=3.0.1 in /Users/gonakazawa/.pyenv/versions/3.10.6/lib/python3.10/site-packages (from google-api-python-client) (4.1.1)\n",
      "Requirement already satisfied: google-api-core!=2.0.*,!=2.1.*,!=2.2.*,!=2.3.0,<3.0.0dev,>=1.31.5 in /Users/gonakazawa/.pyenv/versions/3.10.6/lib/python3.10/site-packages (from google-api-python-client) (2.10.2)\n",
      "Requirement already satisfied: google-auth-httplib2>=0.1.0 in /Users/gonakazawa/.pyenv/versions/3.10.6/lib/python3.10/site-packages (from google-api-python-client) (0.1.0)\n",
      "Requirement already satisfied: googleapis-common-protos<2.0dev,>=1.56.2 in /Users/gonakazawa/.pyenv/versions/3.10.6/lib/python3.10/site-packages (from google-api-core!=2.0.*,!=2.1.*,!=2.2.*,!=2.3.0,<3.0.0dev,>=1.31.5->google-api-python-client) (1.56.4)\n",
      "Requirement already satisfied: requests<3.0.0dev,>=2.18.0 in /Users/gonakazawa/.pyenv/versions/3.10.6/lib/python3.10/site-packages (from google-api-core!=2.0.*,!=2.1.*,!=2.2.*,!=2.3.0,<3.0.0dev,>=1.31.5->google-api-python-client) (2.28.1)\n",
      "Requirement already satisfied: protobuf!=3.20.0,!=3.20.1,!=4.21.0,!=4.21.1,!=4.21.2,!=4.21.3,!=4.21.4,!=4.21.5,<5.0.0dev,>=3.19.5 in /Users/gonakazawa/.pyenv/versions/3.10.6/lib/python3.10/site-packages (from google-api-core!=2.0.*,!=2.1.*,!=2.2.*,!=2.3.0,<3.0.0dev,>=1.31.5->google-api-python-client) (3.20.3)\n",
      "Requirement already satisfied: rsa<5,>=3.1.4 in /Users/gonakazawa/.pyenv/versions/3.10.6/lib/python3.10/site-packages (from google-auth<3.0.0dev,>=1.19.0->google-api-python-client) (4.9)\n",
      "Requirement already satisfied: cachetools<6.0,>=2.0.0 in /Users/gonakazawa/.pyenv/versions/3.10.6/lib/python3.10/site-packages (from google-auth<3.0.0dev,>=1.19.0->google-api-python-client) (5.2.0)\n",
      "Requirement already satisfied: pyasn1-modules>=0.2.1 in /Users/gonakazawa/.pyenv/versions/3.10.6/lib/python3.10/site-packages (from google-auth<3.0.0dev,>=1.19.0->google-api-python-client) (0.2.8)\n",
      "Requirement already satisfied: six>=1.9.0 in /Users/gonakazawa/.pyenv/versions/3.10.6/lib/python3.10/site-packages (from google-auth<3.0.0dev,>=1.19.0->google-api-python-client) (1.16.0)\n",
      "Requirement already satisfied: pyparsing!=3.0.0,!=3.0.1,!=3.0.2,!=3.0.3,<4,>=2.4.2 in /Users/gonakazawa/.pyenv/versions/3.10.6/lib/python3.10/site-packages (from httplib2<1dev,>=0.15.0->google-api-python-client) (3.0.9)\n",
      "Requirement already satisfied: pyasn1<0.5.0,>=0.4.6 in /Users/gonakazawa/.pyenv/versions/3.10.6/lib/python3.10/site-packages (from pyasn1-modules>=0.2.1->google-auth<3.0.0dev,>=1.19.0->google-api-python-client) (0.4.8)\n",
      "Requirement already satisfied: certifi>=2017.4.17 in /Users/gonakazawa/.pyenv/versions/3.10.6/lib/python3.10/site-packages (from requests<3.0.0dev,>=2.18.0->google-api-core!=2.0.*,!=2.1.*,!=2.2.*,!=2.3.0,<3.0.0dev,>=1.31.5->google-api-python-client) (2022.6.15.1)\n",
      "Requirement already satisfied: urllib3<1.27,>=1.21.1 in /Users/gonakazawa/.pyenv/versions/3.10.6/lib/python3.10/site-packages (from requests<3.0.0dev,>=2.18.0->google-api-core!=2.0.*,!=2.1.*,!=2.2.*,!=2.3.0,<3.0.0dev,>=1.31.5->google-api-python-client) (1.26.12)\n",
      "Requirement already satisfied: charset-normalizer<3,>=2 in /Users/gonakazawa/.pyenv/versions/3.10.6/lib/python3.10/site-packages (from requests<3.0.0dev,>=2.18.0->google-api-core!=2.0.*,!=2.1.*,!=2.2.*,!=2.3.0,<3.0.0dev,>=1.31.5->google-api-python-client) (2.1.1)\n",
      "Requirement already satisfied: idna<4,>=2.5 in /Users/gonakazawa/.pyenv/versions/3.10.6/lib/python3.10/site-packages (from requests<3.0.0dev,>=2.18.0->google-api-core!=2.0.*,!=2.1.*,!=2.2.*,!=2.3.0,<3.0.0dev,>=1.31.5->google-api-python-client) (3.3)\n"
     ]
    }
   ],
   "source": [
    "!pip install google-api-python-client"
   ]
  },
  {
   "cell_type": "code",
   "execution_count": 80,
   "id": "2fa75277",
   "metadata": {},
   "outputs": [
    {
     "name": "stdout",
     "output_type": "stream",
     "text": [
      "Requirement already satisfied: pip in /Users/gonakazawa/.pyenv/versions/3.10.6/lib/python3.10/site-packages (22.3.1)\r\n"
     ]
    }
   ],
   "source": [
    "!pip install --upgrade pip"
   ]
  },
  {
   "cell_type": "code",
   "execution_count": 81,
   "id": "c1ae6730",
   "metadata": {},
   "outputs": [
    {
     "data": {
      "text/plain": [
       "['/Users/gonakazawa/Documents/go/dev_environments/04_YouTube_analysis',\n",
       " '/opt/homebrew/Cellar/python@3.10/3.10.8/Frameworks/Python.framework/Versions/3.10/lib/python310.zip',\n",
       " '/opt/homebrew/Cellar/python@3.10/3.10.8/Frameworks/Python.framework/Versions/3.10/lib/python3.10',\n",
       " '/opt/homebrew/Cellar/python@3.10/3.10.8/Frameworks/Python.framework/Versions/3.10/lib/python3.10/lib-dynload',\n",
       " '',\n",
       " '/opt/homebrew/Cellar/jupyterlab/3.4.8/libexec/lib/python3.10/site-packages',\n",
       " '/opt/homebrew/opt/six/lib/python3.10/site-packages',\n",
       " '/opt/homebrew/lib/python3.10/site-packages',\n",
       " '/Users/gonakazawa/.pyenv/versions/3.10.6/lib/python3.10/site-packages']"
      ]
     },
     "execution_count": 81,
     "metadata": {},
     "output_type": "execute_result"
    }
   ],
   "source": [
    "import sys\n",
    "sys.path"
   ]
  },
  {
   "cell_type": "code",
   "execution_count": 82,
   "id": "95215a4e",
   "metadata": {},
   "outputs": [],
   "source": [
    "sys.path.append(\"/Users/gonakazawa/.pyenv/versions/3.10.6/lib/python3.10/site-packages\")"
   ]
  },
  {
   "cell_type": "code",
   "execution_count": 83,
   "id": "c1f009a6",
   "metadata": {},
   "outputs": [
    {
     "data": {
      "text/plain": [
       "['/Users/gonakazawa/Documents/go/dev_environments/04_YouTube_analysis',\n",
       " '/opt/homebrew/Cellar/python@3.10/3.10.8/Frameworks/Python.framework/Versions/3.10/lib/python310.zip',\n",
       " '/opt/homebrew/Cellar/python@3.10/3.10.8/Frameworks/Python.framework/Versions/3.10/lib/python3.10',\n",
       " '/opt/homebrew/Cellar/python@3.10/3.10.8/Frameworks/Python.framework/Versions/3.10/lib/python3.10/lib-dynload',\n",
       " '',\n",
       " '/opt/homebrew/Cellar/jupyterlab/3.4.8/libexec/lib/python3.10/site-packages',\n",
       " '/opt/homebrew/opt/six/lib/python3.10/site-packages',\n",
       " '/opt/homebrew/lib/python3.10/site-packages',\n",
       " '/Users/gonakazawa/.pyenv/versions/3.10.6/lib/python3.10/site-packages',\n",
       " '/Users/gonakazawa/.pyenv/versions/3.10.6/lib/python3.10/site-packages']"
      ]
     },
     "execution_count": 83,
     "metadata": {},
     "output_type": "execute_result"
    }
   ],
   "source": [
    "import sys\n",
    "sys.path"
   ]
  },
  {
   "cell_type": "code",
   "execution_count": 84,
   "id": "a92cbfbb",
   "metadata": {},
   "outputs": [],
   "source": [
    "#!/usr/bin/python\n",
    "\n",
    "from apiclient.discovery import build\n",
    "#from apiclient.errors import HttpError\n",
    "#from oauth2client.tools import argparser\n",
    "\n",
    "\n"
   ]
  },
  {
   "cell_type": "code",
   "execution_count": null,
   "id": "bcce6e85",
   "metadata": {},
   "outputs": [],
   "source": []
  },
  {
   "cell_type": "code",
   "execution_count": 85,
   "id": "a4b87b52",
   "metadata": {},
   "outputs": [],
   "source": [
    "import json\n",
    "with open('secret.json') as f:\n",
    "    secret = json.load(f)"
   ]
  },
  {
   "cell_type": "code",
   "execution_count": 86,
   "id": "d0527fe5",
   "metadata": {},
   "outputs": [],
   "source": [
    "DEVELOPER_KEY = secret['KEY']\n",
    "YOUTUBE_API_SERVICE_NAME = \"youtube\"\n",
    "YOUTUBE_API_VERSION = \"v3\"\n",
    "\n",
    "# def youtube_search(options):\n",
    "youtube = build(YOUTUBE_API_SERVICE_NAME, YOUTUBE_API_VERSION,\n",
    "                developerKey=DEVELOPER_KEY)\n",
    "\n",
    "q = 'python 自動化'\n",
    "max_results = 50\n",
    "\n",
    "response = youtube.search().list(\n",
    "    q=q,\n",
    "    part=\"id,snippet\",\n",
    "    order='viewCount',\n",
    "    type='video',\n",
    "    maxResults=max_results\n",
    ").execute()\n"
   ]
  },
  {
   "cell_type": "code",
   "execution_count": 87,
   "id": "4cba6dce",
   "metadata": {},
   "outputs": [],
   "source": [
    "import pandas as pd"
   ]
  },
  {
   "cell_type": "code",
   "execution_count": 88,
   "id": "5be941aa",
   "metadata": {},
   "outputs": [],
   "source": [
    "items_id = []\n",
    "items = response['items']\n",
    "for item in items:\n",
    "    item_id = {}\n",
    "    item_id['video_id'] = item['id']['videoId']\n",
    "    item_id['channel_id'] = item['snippet']['channelId']\n",
    "    items_id.append(item_id)\n",
    "\n",
    "df_video = pd.DataFrame(items_id)"
   ]
  },
  {
   "cell_type": "code",
   "execution_count": 89,
   "id": "823c8e56",
   "metadata": {
    "scrolled": false
   },
   "outputs": [
    {
     "data": {
      "text/html": [
       "<div>\n",
       "<style scoped>\n",
       "    .dataframe tbody tr th:only-of-type {\n",
       "        vertical-align: middle;\n",
       "    }\n",
       "\n",
       "    .dataframe tbody tr th {\n",
       "        vertical-align: top;\n",
       "    }\n",
       "\n",
       "    .dataframe thead th {\n",
       "        text-align: right;\n",
       "    }\n",
       "</style>\n",
       "<table border=\"1\" class=\"dataframe\">\n",
       "  <thead>\n",
       "    <tr style=\"text-align: right;\">\n",
       "      <th></th>\n",
       "      <th>video_id</th>\n",
       "      <th>channel_id</th>\n",
       "    </tr>\n",
       "  </thead>\n",
       "  <tbody>\n",
       "    <tr>\n",
       "      <th>0</th>\n",
       "      <td>bsq2YY-XAEo</td>\n",
       "      <td>UC0xRMqPOyRNPTaL6BxhbCnQ</td>\n",
       "    </tr>\n",
       "    <tr>\n",
       "      <th>1</th>\n",
       "      <td>s8XjEuplx_U</td>\n",
       "      <td>UC8butISFwT-Wl7EV0hUK0BQ</td>\n",
       "    </tr>\n",
       "    <tr>\n",
       "      <th>2</th>\n",
       "      <td>PXMJ6FS7llk</td>\n",
       "      <td>UC8butISFwT-Wl7EV0hUK0BQ</td>\n",
       "    </tr>\n",
       "  </tbody>\n",
       "</table>\n",
       "</div>"
      ],
      "text/plain": [
       "      video_id                channel_id\n",
       "0  bsq2YY-XAEo  UC0xRMqPOyRNPTaL6BxhbCnQ\n",
       "1  s8XjEuplx_U  UC8butISFwT-Wl7EV0hUK0BQ\n",
       "2  PXMJ6FS7llk  UC8butISFwT-Wl7EV0hUK0BQ"
      ]
     },
     "execution_count": 89,
     "metadata": {},
     "output_type": "execute_result"
    }
   ],
   "source": [
    "df_video[:3]"
   ]
  },
  {
   "cell_type": "code",
   "execution_count": 90,
   "id": "024aee81",
   "metadata": {},
   "outputs": [],
   "source": [
    "def video_search(youtube, q = 'python 自動化',max_results = 50):\n",
    "\n",
    "        response = youtube.search().list(\n",
    "            q=q,\n",
    "            part=\"id,snippet\",\n",
    "            order='viewCount',\n",
    "            type='video',\n",
    "            maxResults=max_results\n",
    "        ).execute()\n",
    "\n",
    "        items_id = []\n",
    "        items = response['items']\n",
    "        for item in items:\n",
    "            item_id = {}\n",
    "            item_id['video_id'] = item['id']['videoId']\n",
    "            item_id['channel_id'] = item['snippet']['channelId']\n",
    "            items_id.append(item_id)\n",
    "\n",
    "        df_video = pd.DataFrame(items_id)\n",
    "        return df_video"
   ]
  },
  {
   "cell_type": "code",
   "execution_count": 91,
   "id": "ca1664be",
   "metadata": {},
   "outputs": [],
   "source": [
    "DEVELOPER_KEY = secret['KEY']\n",
    "YOUTUBE_API_SERVICE_NAME = \"youtube\"\n",
    "YOUTUBE_API_VERSION = \"v3\"\n",
    "\n",
    "\n",
    "youtube = build(YOUTUBE_API_SERVICE_NAME, YOUTUBE_API_VERSION,\n",
    "                developerKey=DEVELOPER_KEY)\n",
    "\n",
    "q = 'python 自動化'\n",
    "max_results = 50\n"
   ]
  },
  {
   "cell_type": "code",
   "execution_count": 92,
   "id": "b7e3cd95",
   "metadata": {},
   "outputs": [
    {
     "data": {
      "text/html": [
       "<div>\n",
       "<style scoped>\n",
       "    .dataframe tbody tr th:only-of-type {\n",
       "        vertical-align: middle;\n",
       "    }\n",
       "\n",
       "    .dataframe tbody tr th {\n",
       "        vertical-align: top;\n",
       "    }\n",
       "\n",
       "    .dataframe thead th {\n",
       "        text-align: right;\n",
       "    }\n",
       "</style>\n",
       "<table border=\"1\" class=\"dataframe\">\n",
       "  <thead>\n",
       "    <tr style=\"text-align: right;\">\n",
       "      <th></th>\n",
       "      <th>video_id</th>\n",
       "      <th>channel_id</th>\n",
       "    </tr>\n",
       "  </thead>\n",
       "  <tbody>\n",
       "    <tr>\n",
       "      <th>0</th>\n",
       "      <td>bsq2YY-XAEo</td>\n",
       "      <td>UC0xRMqPOyRNPTaL6BxhbCnQ</td>\n",
       "    </tr>\n",
       "    <tr>\n",
       "      <th>1</th>\n",
       "      <td>s8XjEuplx_U</td>\n",
       "      <td>UC8butISFwT-Wl7EV0hUK0BQ</td>\n",
       "    </tr>\n",
       "    <tr>\n",
       "      <th>2</th>\n",
       "      <td>PXMJ6FS7llk</td>\n",
       "      <td>UC8butISFwT-Wl7EV0hUK0BQ</td>\n",
       "    </tr>\n",
       "  </tbody>\n",
       "</table>\n",
       "</div>"
      ],
      "text/plain": [
       "      video_id                channel_id\n",
       "0  bsq2YY-XAEo  UC0xRMqPOyRNPTaL6BxhbCnQ\n",
       "1  s8XjEuplx_U  UC8butISFwT-Wl7EV0hUK0BQ\n",
       "2  PXMJ6FS7llk  UC8butISFwT-Wl7EV0hUK0BQ"
      ]
     },
     "execution_count": 92,
     "metadata": {},
     "output_type": "execute_result"
    }
   ],
   "source": [
    "video_search(youtube,q,max_results)[:3]"
   ]
  },
  {
   "cell_type": "code",
   "execution_count": 93,
   "id": "6cbe1486",
   "metadata": {},
   "outputs": [],
   "source": [
    "channel_ids = df_video['channel_id'].unique().tolist()\n",
    "\n",
    "subscriber_list = youtube.channels().list(\n",
    "    id=','.join(channel_ids),\n",
    "    part='statistics',\n",
    "    fields='items(id,statistics(subscriberCount))'\n",
    ").execute()"
   ]
  },
  {
   "cell_type": "code",
   "execution_count": 94,
   "id": "a8ce58bc",
   "metadata": {},
   "outputs": [
    {
     "data": {
      "text/plain": [
       "[{'id': 'UC6OrQk8WsnCOR1OezlUU9zQ', 'statistics': {'subscriberCount': '7650'}},\n",
       " {'id': 'UCk-AjDBOodw8P40f0y6EYeA',\n",
       "  'statistics': {'subscriberCount': '93600'}},\n",
       " {'id': 'UCXjTiSGclQLVVU83GVrRM4w',\n",
       "  'statistics': {'subscriberCount': '1550000'}},\n",
       " {'id': 'UCMMjv61LfBy5J3AT8Ua0NGQ',\n",
       "  'statistics': {'subscriberCount': '145000'}}]"
      ]
     },
     "execution_count": 94,
     "metadata": {},
     "output_type": "execute_result"
    }
   ],
   "source": [
    "subscriber_list['items'][:4]"
   ]
  },
  {
   "cell_type": "code",
   "execution_count": 95,
   "id": "0280b190",
   "metadata": {},
   "outputs": [],
   "source": [
    "subscribers = []\n",
    "for item in subscriber_list['items']:\n",
    "    subscriber = {}\n",
    "    subscriber['channel_id'] = item['id']\n",
    "    subscriber['subscriber_count'] = int(item['statistics']['subscriberCount'])\n",
    "    subscribers.append(subscriber)\n",
    "\n",
    "df_subscribers = pd.DataFrame(subscribers)"
   ]
  },
  {
   "cell_type": "code",
   "execution_count": 96,
   "id": "c893c3c8",
   "metadata": {},
   "outputs": [
    {
     "data": {
      "text/html": [
       "<div>\n",
       "<style scoped>\n",
       "    .dataframe tbody tr th:only-of-type {\n",
       "        vertical-align: middle;\n",
       "    }\n",
       "\n",
       "    .dataframe tbody tr th {\n",
       "        vertical-align: top;\n",
       "    }\n",
       "\n",
       "    .dataframe thead th {\n",
       "        text-align: right;\n",
       "    }\n",
       "</style>\n",
       "<table border=\"1\" class=\"dataframe\">\n",
       "  <thead>\n",
       "    <tr style=\"text-align: right;\">\n",
       "      <th></th>\n",
       "      <th>video_id</th>\n",
       "      <th>channel_id</th>\n",
       "      <th>subscriber_count</th>\n",
       "    </tr>\n",
       "  </thead>\n",
       "  <tbody>\n",
       "    <tr>\n",
       "      <th>0</th>\n",
       "      <td>bsq2YY-XAEo</td>\n",
       "      <td>UC0xRMqPOyRNPTaL6BxhbCnQ</td>\n",
       "      <td>129000</td>\n",
       "    </tr>\n",
       "    <tr>\n",
       "      <th>1</th>\n",
       "      <td>KmqEyT7HznQ</td>\n",
       "      <td>UC0xRMqPOyRNPTaL6BxhbCnQ</td>\n",
       "      <td>129000</td>\n",
       "    </tr>\n",
       "    <tr>\n",
       "      <th>2</th>\n",
       "      <td>VRFfAeW30qE</td>\n",
       "      <td>UC0xRMqPOyRNPTaL6BxhbCnQ</td>\n",
       "      <td>129000</td>\n",
       "    </tr>\n",
       "  </tbody>\n",
       "</table>\n",
       "</div>"
      ],
      "text/plain": [
       "      video_id                channel_id  subscriber_count\n",
       "0  bsq2YY-XAEo  UC0xRMqPOyRNPTaL6BxhbCnQ            129000\n",
       "1  KmqEyT7HznQ  UC0xRMqPOyRNPTaL6BxhbCnQ            129000\n",
       "2  VRFfAeW30qE  UC0xRMqPOyRNPTaL6BxhbCnQ            129000"
      ]
     },
     "execution_count": 96,
     "metadata": {},
     "output_type": "execute_result"
    }
   ],
   "source": [
    "df = pd.merge(left=df_video, right=df_subscribers, on='channel_id')\n",
    "df.head(3)"
   ]
  },
  {
   "cell_type": "code",
   "execution_count": 97,
   "id": "b82302a8",
   "metadata": {},
   "outputs": [
    {
     "data": {
      "text/html": [
       "<div>\n",
       "<style scoped>\n",
       "    .dataframe tbody tr th:only-of-type {\n",
       "        vertical-align: middle;\n",
       "    }\n",
       "\n",
       "    .dataframe tbody tr th {\n",
       "        vertical-align: top;\n",
       "    }\n",
       "\n",
       "    .dataframe thead th {\n",
       "        text-align: right;\n",
       "    }\n",
       "</style>\n",
       "<table border=\"1\" class=\"dataframe\">\n",
       "  <thead>\n",
       "    <tr style=\"text-align: right;\">\n",
       "      <th></th>\n",
       "      <th>video_id</th>\n",
       "      <th>channel_id</th>\n",
       "      <th>subscriber_count</th>\n",
       "    </tr>\n",
       "  </thead>\n",
       "  <tbody>\n",
       "    <tr>\n",
       "      <th>30</th>\n",
       "      <td>YwIX8w9i2DM</td>\n",
       "      <td>UCbg0ptFI3yZ4Pe5vmUiEzzA</td>\n",
       "      <td>7550</td>\n",
       "    </tr>\n",
       "    <tr>\n",
       "      <th>39</th>\n",
       "      <td>YbGAUEjTKg4</td>\n",
       "      <td>UC6OrQk8WsnCOR1OezlUU9zQ</td>\n",
       "      <td>7650</td>\n",
       "    </tr>\n",
       "    <tr>\n",
       "      <th>40</th>\n",
       "      <td>uaIUOQ47eP8</td>\n",
       "      <td>UCEq0oQsS-voRnSWbcviIDGA</td>\n",
       "      <td>8200</td>\n",
       "    </tr>\n",
       "  </tbody>\n",
       "</table>\n",
       "</div>"
      ],
      "text/plain": [
       "       video_id                channel_id  subscriber_count\n",
       "30  YwIX8w9i2DM  UCbg0ptFI3yZ4Pe5vmUiEzzA              7550\n",
       "39  YbGAUEjTKg4  UC6OrQk8WsnCOR1OezlUU9zQ              7650\n",
       "40  uaIUOQ47eP8  UCEq0oQsS-voRnSWbcviIDGA              8200"
      ]
     },
     "execution_count": 97,
     "metadata": {},
     "output_type": "execute_result"
    }
   ],
   "source": [
    "df_extracted = df[df['subscriber_count'] < 10000]\n",
    "df_extracted[:3]"
   ]
  },
  {
   "cell_type": "code",
   "execution_count": 98,
   "id": "07a71b40",
   "metadata": {},
   "outputs": [],
   "source": [
    "video_ids = df_extracted['video_id'].tolist()"
   ]
  },
  {
   "cell_type": "code",
   "execution_count": 99,
   "id": "70fda23f",
   "metadata": {},
   "outputs": [],
   "source": [
    "videos_list = youtube.videos().list(\n",
    "    id=','.join(video_ids),\n",
    "    part='snippet,statistics',\n",
    "    fields='items(id,snippet(title),statistics(viewCount))'\n",
    ").execute()"
   ]
  },
  {
   "cell_type": "code",
   "execution_count": 100,
   "id": "35f350e0",
   "metadata": {},
   "outputs": [],
   "source": [
    "videos_info = []\n",
    "items = videos_list['items']\n",
    "for item in items:\n",
    "    video_info = {}\n",
    "    video_info['video_id'] = item['id']\n",
    "    video_info['title'] = item['snippet']['title']\n",
    "    video_info['view_count'] = item['statistics']['viewCount']\n",
    "    videos_info.append(video_info)\n",
    "\n",
    "df_videos_info = pd.DataFrame(videos_info)"
   ]
  },
  {
   "cell_type": "code",
   "execution_count": 101,
   "id": "d345a0d0",
   "metadata": {},
   "outputs": [
    {
     "data": {
      "text/html": [
       "<div>\n",
       "<style scoped>\n",
       "    .dataframe tbody tr th:only-of-type {\n",
       "        vertical-align: middle;\n",
       "    }\n",
       "\n",
       "    .dataframe tbody tr th {\n",
       "        vertical-align: top;\n",
       "    }\n",
       "\n",
       "    .dataframe thead th {\n",
       "        text-align: right;\n",
       "    }\n",
       "</style>\n",
       "<table border=\"1\" class=\"dataframe\">\n",
       "  <thead>\n",
       "    <tr style=\"text-align: right;\">\n",
       "      <th></th>\n",
       "      <th>video_id</th>\n",
       "      <th>title</th>\n",
       "      <th>view_count</th>\n",
       "    </tr>\n",
       "  </thead>\n",
       "  <tbody>\n",
       "    <tr>\n",
       "      <th>0</th>\n",
       "      <td>YwIX8w9i2DM</td>\n",
       "      <td>Automate Excel with Python Tutorial (2020)</td>\n",
       "      <td>274430</td>\n",
       "    </tr>\n",
       "    <tr>\n",
       "      <th>1</th>\n",
       "      <td>YbGAUEjTKg4</td>\n",
       "      <td>Web Automation using Python To Fill out A Form</td>\n",
       "      <td>115477</td>\n",
       "    </tr>\n",
       "    <tr>\n",
       "      <th>2</th>\n",
       "      <td>uaIUOQ47eP8</td>\n",
       "      <td>Google IT Automation with Python Professional ...</td>\n",
       "      <td>86267</td>\n",
       "    </tr>\n",
       "  </tbody>\n",
       "</table>\n",
       "</div>"
      ],
      "text/plain": [
       "      video_id                                              title view_count\n",
       "0  YwIX8w9i2DM         Automate Excel with Python Tutorial (2020)     274430\n",
       "1  YbGAUEjTKg4     Web Automation using Python To Fill out A Form     115477\n",
       "2  uaIUOQ47eP8  Google IT Automation with Python Professional ...      86267"
      ]
     },
     "execution_count": 101,
     "metadata": {},
     "output_type": "execute_result"
    }
   ],
   "source": [
    "df_videos_info[:3]"
   ]
  },
  {
   "cell_type": "code",
   "execution_count": 102,
   "id": "8dd00a92",
   "metadata": {
    "scrolled": true
   },
   "outputs": [
    {
     "data": {
      "text/html": [
       "<div>\n",
       "<style scoped>\n",
       "    .dataframe tbody tr th:only-of-type {\n",
       "        vertical-align: middle;\n",
       "    }\n",
       "\n",
       "    .dataframe tbody tr th {\n",
       "        vertical-align: top;\n",
       "    }\n",
       "\n",
       "    .dataframe thead th {\n",
       "        text-align: right;\n",
       "    }\n",
       "</style>\n",
       "<table border=\"1\" class=\"dataframe\">\n",
       "  <thead>\n",
       "    <tr style=\"text-align: right;\">\n",
       "      <th></th>\n",
       "      <th>video_id</th>\n",
       "      <th>channel_id</th>\n",
       "      <th>subscriber_count</th>\n",
       "      <th>title</th>\n",
       "      <th>view_count</th>\n",
       "    </tr>\n",
       "  </thead>\n",
       "  <tbody>\n",
       "    <tr>\n",
       "      <th>0</th>\n",
       "      <td>YwIX8w9i2DM</td>\n",
       "      <td>UCbg0ptFI3yZ4Pe5vmUiEzzA</td>\n",
       "      <td>7550</td>\n",
       "      <td>Automate Excel with Python Tutorial (2020)</td>\n",
       "      <td>274430</td>\n",
       "    </tr>\n",
       "    <tr>\n",
       "      <th>1</th>\n",
       "      <td>YbGAUEjTKg4</td>\n",
       "      <td>UC6OrQk8WsnCOR1OezlUU9zQ</td>\n",
       "      <td>7650</td>\n",
       "      <td>Web Automation using Python To Fill out A Form</td>\n",
       "      <td>115477</td>\n",
       "    </tr>\n",
       "    <tr>\n",
       "      <th>2</th>\n",
       "      <td>uaIUOQ47eP8</td>\n",
       "      <td>UCEq0oQsS-voRnSWbcviIDGA</td>\n",
       "      <td>8200</td>\n",
       "      <td>Google IT Automation with Python Professional ...</td>\n",
       "      <td>86267</td>\n",
       "    </tr>\n",
       "  </tbody>\n",
       "</table>\n",
       "</div>"
      ],
      "text/plain": [
       "      video_id                channel_id  subscriber_count  \\\n",
       "0  YwIX8w9i2DM  UCbg0ptFI3yZ4Pe5vmUiEzzA              7550   \n",
       "1  YbGAUEjTKg4  UC6OrQk8WsnCOR1OezlUU9zQ              7650   \n",
       "2  uaIUOQ47eP8  UCEq0oQsS-voRnSWbcviIDGA              8200   \n",
       "\n",
       "                                               title view_count  \n",
       "0         Automate Excel with Python Tutorial (2020)     274430  \n",
       "1     Web Automation using Python To Fill out A Form     115477  \n",
       "2  Google IT Automation with Python Professional ...      86267  "
      ]
     },
     "execution_count": 102,
     "metadata": {},
     "output_type": "execute_result"
    }
   ],
   "source": [
    "results = pd.merge(left=df_extracted, right=df_videos_info, on='video_id')\n",
    "results[:3]"
   ]
  },
  {
   "cell_type": "code",
   "execution_count": 103,
   "id": "b8e400c3",
   "metadata": {},
   "outputs": [],
   "source": [
    "results = results.loc[:,['video_id', 'title', 'view_count', 'subscriber_count', 'channel_id']]"
   ]
  },
  {
   "cell_type": "code",
   "execution_count": 104,
   "id": "345f4510",
   "metadata": {},
   "outputs": [
    {
     "data": {
      "text/html": [
       "<div>\n",
       "<style scoped>\n",
       "    .dataframe tbody tr th:only-of-type {\n",
       "        vertical-align: middle;\n",
       "    }\n",
       "\n",
       "    .dataframe tbody tr th {\n",
       "        vertical-align: top;\n",
       "    }\n",
       "\n",
       "    .dataframe thead th {\n",
       "        text-align: right;\n",
       "    }\n",
       "</style>\n",
       "<table border=\"1\" class=\"dataframe\">\n",
       "  <thead>\n",
       "    <tr style=\"text-align: right;\">\n",
       "      <th></th>\n",
       "      <th>video_id</th>\n",
       "      <th>title</th>\n",
       "      <th>view_count</th>\n",
       "      <th>subscriber_count</th>\n",
       "      <th>channel_id</th>\n",
       "    </tr>\n",
       "  </thead>\n",
       "  <tbody>\n",
       "    <tr>\n",
       "      <th>0</th>\n",
       "      <td>YwIX8w9i2DM</td>\n",
       "      <td>Automate Excel with Python Tutorial (2020)</td>\n",
       "      <td>274430</td>\n",
       "      <td>7550</td>\n",
       "      <td>UCbg0ptFI3yZ4Pe5vmUiEzzA</td>\n",
       "    </tr>\n",
       "    <tr>\n",
       "      <th>1</th>\n",
       "      <td>YbGAUEjTKg4</td>\n",
       "      <td>Web Automation using Python To Fill out A Form</td>\n",
       "      <td>115477</td>\n",
       "      <td>7650</td>\n",
       "      <td>UC6OrQk8WsnCOR1OezlUU9zQ</td>\n",
       "    </tr>\n",
       "    <tr>\n",
       "      <th>2</th>\n",
       "      <td>uaIUOQ47eP8</td>\n",
       "      <td>Google IT Automation with Python Professional ...</td>\n",
       "      <td>86267</td>\n",
       "      <td>8200</td>\n",
       "      <td>UCEq0oQsS-voRnSWbcviIDGA</td>\n",
       "    </tr>\n",
       "  </tbody>\n",
       "</table>\n",
       "</div>"
      ],
      "text/plain": [
       "      video_id                                              title view_count  \\\n",
       "0  YwIX8w9i2DM         Automate Excel with Python Tutorial (2020)     274430   \n",
       "1  YbGAUEjTKg4     Web Automation using Python To Fill out A Form     115477   \n",
       "2  uaIUOQ47eP8  Google IT Automation with Python Professional ...      86267   \n",
       "\n",
       "   subscriber_count                channel_id  \n",
       "0              7550  UCbg0ptFI3yZ4Pe5vmUiEzzA  \n",
       "1              7650  UC6OrQk8WsnCOR1OezlUU9zQ  \n",
       "2              8200  UCEq0oQsS-voRnSWbcviIDGA  "
      ]
     },
     "execution_count": 104,
     "metadata": {},
     "output_type": "execute_result"
    }
   ],
   "source": [
    "results[:3]"
   ]
  },
  {
   "cell_type": "code",
   "execution_count": null,
   "id": "35f65101",
   "metadata": {},
   "outputs": [],
   "source": []
  },
  {
   "cell_type": "code",
   "execution_count": null,
   "id": "2862bbbb",
   "metadata": {},
   "outputs": [],
   "source": []
  }
 ],
 "metadata": {
  "kernelspec": {
   "display_name": "Python 3 (ipykernel)",
   "language": "python",
   "name": "python3"
  },
  "language_info": {
   "codemirror_mode": {
    "name": "ipython",
    "version": 3
   },
   "file_extension": ".py",
   "mimetype": "text/x-python",
   "name": "python",
   "nbconvert_exporter": "python",
   "pygments_lexer": "ipython3",
   "version": "3.10.8"
  }
 },
 "nbformat": 4,
 "nbformat_minor": 5
}
