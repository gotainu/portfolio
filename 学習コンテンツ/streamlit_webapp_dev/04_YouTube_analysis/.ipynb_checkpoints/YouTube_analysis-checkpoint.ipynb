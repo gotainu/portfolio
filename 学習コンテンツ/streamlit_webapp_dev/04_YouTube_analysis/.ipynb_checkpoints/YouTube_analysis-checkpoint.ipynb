{
 "cells": [
  {
   "cell_type": "code",
   "execution_count": 1,
   "id": "d0d91df3",
   "metadata": {
    "scrolled": true
   },
   "outputs": [
    {
     "name": "stdout",
     "output_type": "stream",
     "text": [
      "Requirement already satisfied: google-api-python-client in /Users/gonakazawa/.pyenv/versions/3.10.6/lib/python3.10/site-packages (2.65.0)\n",
      "Requirement already satisfied: google-api-core!=2.0.*,!=2.1.*,!=2.2.*,!=2.3.0,<3.0.0dev,>=1.31.5 in /Users/gonakazawa/.pyenv/versions/3.10.6/lib/python3.10/site-packages (from google-api-python-client) (2.10.2)\n",
      "Requirement already satisfied: httplib2<1dev,>=0.15.0 in /Users/gonakazawa/.pyenv/versions/3.10.6/lib/python3.10/site-packages (from google-api-python-client) (0.21.0)\n",
      "Requirement already satisfied: uritemplate<5,>=3.0.1 in /Users/gonakazawa/.pyenv/versions/3.10.6/lib/python3.10/site-packages (from google-api-python-client) (4.1.1)\n",
      "Requirement already satisfied: google-auth-httplib2>=0.1.0 in /Users/gonakazawa/.pyenv/versions/3.10.6/lib/python3.10/site-packages (from google-api-python-client) (0.1.0)\n",
      "Requirement already satisfied: google-auth<3.0.0dev,>=1.19.0 in /Users/gonakazawa/.pyenv/versions/3.10.6/lib/python3.10/site-packages (from google-api-python-client) (2.14.0)\n",
      "Requirement already satisfied: protobuf!=3.20.0,!=3.20.1,!=4.21.0,!=4.21.1,!=4.21.2,!=4.21.3,!=4.21.4,!=4.21.5,<5.0.0dev,>=3.19.5 in /Users/gonakazawa/.pyenv/versions/3.10.6/lib/python3.10/site-packages (from google-api-core!=2.0.*,!=2.1.*,!=2.2.*,!=2.3.0,<3.0.0dev,>=1.31.5->google-api-python-client) (4.21.9)\n",
      "Requirement already satisfied: requests<3.0.0dev,>=2.18.0 in /Users/gonakazawa/.pyenv/versions/3.10.6/lib/python3.10/site-packages (from google-api-core!=2.0.*,!=2.1.*,!=2.2.*,!=2.3.0,<3.0.0dev,>=1.31.5->google-api-python-client) (2.28.1)\n",
      "Requirement already satisfied: googleapis-common-protos<2.0dev,>=1.56.2 in /Users/gonakazawa/.pyenv/versions/3.10.6/lib/python3.10/site-packages (from google-api-core!=2.0.*,!=2.1.*,!=2.2.*,!=2.3.0,<3.0.0dev,>=1.31.5->google-api-python-client) (1.56.4)\n",
      "Requirement already satisfied: six>=1.9.0 in /Users/gonakazawa/.pyenv/versions/3.10.6/lib/python3.10/site-packages (from google-auth<3.0.0dev,>=1.19.0->google-api-python-client) (1.16.0)\n",
      "Requirement already satisfied: rsa<5,>=3.1.4 in /Users/gonakazawa/.pyenv/versions/3.10.6/lib/python3.10/site-packages (from google-auth<3.0.0dev,>=1.19.0->google-api-python-client) (4.9)\n",
      "Requirement already satisfied: cachetools<6.0,>=2.0.0 in /Users/gonakazawa/.pyenv/versions/3.10.6/lib/python3.10/site-packages (from google-auth<3.0.0dev,>=1.19.0->google-api-python-client) (5.2.0)\n",
      "Requirement already satisfied: pyasn1-modules>=0.2.1 in /Users/gonakazawa/.pyenv/versions/3.10.6/lib/python3.10/site-packages (from google-auth<3.0.0dev,>=1.19.0->google-api-python-client) (0.2.8)\n",
      "Requirement already satisfied: pyparsing!=3.0.0,!=3.0.1,!=3.0.2,!=3.0.3,<4,>=2.4.2 in /Users/gonakazawa/.pyenv/versions/3.10.6/lib/python3.10/site-packages (from httplib2<1dev,>=0.15.0->google-api-python-client) (3.0.9)\n",
      "Requirement already satisfied: pyasn1<0.5.0,>=0.4.6 in /Users/gonakazawa/.pyenv/versions/3.10.6/lib/python3.10/site-packages (from pyasn1-modules>=0.2.1->google-auth<3.0.0dev,>=1.19.0->google-api-python-client) (0.4.8)\n",
      "Requirement already satisfied: charset-normalizer<3,>=2 in /Users/gonakazawa/.pyenv/versions/3.10.6/lib/python3.10/site-packages (from requests<3.0.0dev,>=2.18.0->google-api-core!=2.0.*,!=2.1.*,!=2.2.*,!=2.3.0,<3.0.0dev,>=1.31.5->google-api-python-client) (2.1.1)\n",
      "Requirement already satisfied: idna<4,>=2.5 in /Users/gonakazawa/.pyenv/versions/3.10.6/lib/python3.10/site-packages (from requests<3.0.0dev,>=2.18.0->google-api-core!=2.0.*,!=2.1.*,!=2.2.*,!=2.3.0,<3.0.0dev,>=1.31.5->google-api-python-client) (3.3)\n",
      "Requirement already satisfied: urllib3<1.27,>=1.21.1 in /Users/gonakazawa/.pyenv/versions/3.10.6/lib/python3.10/site-packages (from requests<3.0.0dev,>=2.18.0->google-api-core!=2.0.*,!=2.1.*,!=2.2.*,!=2.3.0,<3.0.0dev,>=1.31.5->google-api-python-client) (1.26.12)\n",
      "Requirement already satisfied: certifi>=2017.4.17 in /Users/gonakazawa/.pyenv/versions/3.10.6/lib/python3.10/site-packages (from requests<3.0.0dev,>=2.18.0->google-api-core!=2.0.*,!=2.1.*,!=2.2.*,!=2.3.0,<3.0.0dev,>=1.31.5->google-api-python-client) (2022.6.15.1)\n"
     ]
    }
   ],
   "source": [
    "!pip install google-api-python-client"
   ]
  },
  {
   "cell_type": "code",
   "execution_count": 2,
   "id": "2fa75277",
   "metadata": {},
   "outputs": [
    {
     "name": "stdout",
     "output_type": "stream",
     "text": [
      "Requirement already satisfied: pip in /Users/gonakazawa/.pyenv/versions/3.10.6/lib/python3.10/site-packages (22.3.1)\r\n"
     ]
    }
   ],
   "source": [
    "!pip install --upgrade pip"
   ]
  },
  {
   "cell_type": "code",
   "execution_count": 4,
   "id": "b3b77e66",
   "metadata": {},
   "outputs": [
    {
     "data": {
      "text/plain": [
       "['/Users/gonakazawa/Documents/go/dev_environments/04_YouTube_analysis',\n",
       " '/opt/homebrew/Cellar/python@3.10/3.10.8/Frameworks/Python.framework/Versions/3.10/lib/python310.zip',\n",
       " '/opt/homebrew/Cellar/python@3.10/3.10.8/Frameworks/Python.framework/Versions/3.10/lib/python3.10',\n",
       " '/opt/homebrew/Cellar/python@3.10/3.10.8/Frameworks/Python.framework/Versions/3.10/lib/python3.10/lib-dynload',\n",
       " '',\n",
       " '/opt/homebrew/Cellar/jupyterlab/3.4.8/libexec/lib/python3.10/site-packages',\n",
       " '/opt/homebrew/opt/six/lib/python3.10/site-packages',\n",
       " '/opt/homebrew/lib/python3.10/site-packages']"
      ]
     },
     "execution_count": 4,
     "metadata": {},
     "output_type": "execute_result"
    }
   ],
   "source": [
    "import sys\n",
    "sys.path"
   ]
  },
  {
   "cell_type": "code",
   "execution_count": 5,
   "id": "2ae51d96",
   "metadata": {},
   "outputs": [],
   "source": [
    "sys.path.append(\"/Users/gonakazawa/.pyenv/versions/3.10.6/lib/python3.10/site-packages\")"
   ]
  },
  {
   "cell_type": "code",
   "execution_count": 6,
   "id": "e015b499",
   "metadata": {},
   "outputs": [
    {
     "data": {
      "text/plain": [
       "['/Users/gonakazawa/Documents/go/dev_environments/04_YouTube_analysis',\n",
       " '/opt/homebrew/Cellar/python@3.10/3.10.8/Frameworks/Python.framework/Versions/3.10/lib/python310.zip',\n",
       " '/opt/homebrew/Cellar/python@3.10/3.10.8/Frameworks/Python.framework/Versions/3.10/lib/python3.10',\n",
       " '/opt/homebrew/Cellar/python@3.10/3.10.8/Frameworks/Python.framework/Versions/3.10/lib/python3.10/lib-dynload',\n",
       " '',\n",
       " '/opt/homebrew/Cellar/jupyterlab/3.4.8/libexec/lib/python3.10/site-packages',\n",
       " '/opt/homebrew/opt/six/lib/python3.10/site-packages',\n",
       " '/opt/homebrew/lib/python3.10/site-packages',\n",
       " '/Users/gonakazawa/.pyenv/versions/3.10.6/lib/python3.10/site-packages']"
      ]
     },
     "execution_count": 6,
     "metadata": {},
     "output_type": "execute_result"
    }
   ],
   "source": [
    "import sys\n",
    "sys.path"
   ]
  },
  {
   "cell_type": "code",
   "execution_count": 7,
   "id": "a92cbfbb",
   "metadata": {},
   "outputs": [],
   "source": [
    "#!/usr/bin/python\n",
    "\n",
    "from apiclient.discovery import build\n",
    "#from apiclient.errors import HttpError\n",
    "#from oauth2client.tools import argparser\n",
    "\n",
    "\n"
   ]
  },
  {
   "cell_type": "code",
   "execution_count": null,
   "id": "bcce6e85",
   "metadata": {},
   "outputs": [],
   "source": []
  },
  {
   "cell_type": "code",
   "execution_count": 10,
   "id": "a4b87b52",
   "metadata": {},
   "outputs": [],
   "source": [
    "import json\n",
    "with open('secret.json') as f:\n",
    "    secret = json.load(f)"
   ]
  },
  {
   "cell_type": "code",
   "execution_count": 27,
   "id": "d0527fe5",
   "metadata": {},
   "outputs": [],
   "source": [
    "DEVELOPER_KEY = secret['KEY']\n",
    "YOUTUBE_API_SERVICE_NAME = \"youtube\"\n",
    "YOUTUBE_API_VERSION = \"v3\"\n",
    "\n",
    "# def youtube_search(options):\n",
    "youtube = build(YOUTUBE_API_SERVICE_NAME, YOUTUBE_API_VERSION,\n",
    "                developerKey=DEVELOPER_KEY)\n",
    "\n",
    "q = 'python 自動化'\n",
    "max_results = 50\n",
    "\n",
    "response = youtube.search().list(\n",
    "    q=q,\n",
    "    part=\"id,snippet\",\n",
    "    order='viewCount',\n",
    "    type='video',\n",
    "    maxResults=max_results\n",
    ").execute()\n"
   ]
  },
  {
   "cell_type": "code",
   "execution_count": 22,
   "id": "9f876186",
   "metadata": {},
   "outputs": [],
   "source": [
    "import pandas as pd"
   ]
  },
  {
   "cell_type": "code",
   "execution_count": 36,
   "id": "5be941aa",
   "metadata": {},
   "outputs": [],
   "source": [
    "items_id = []\n",
    "items = response['items']\n",
    "for item in items:\n",
    "    item_id = {}\n",
    "    item_id['video_id'] = item['id']['videoId']\n",
    "    item_id['channel_id'] = item['snippet']['channelId']\n",
    "    items_id.append(item_id)\n",
    "\n",
    "df_video = pd.DataFrame(items_id)"
   ]
  },
  {
   "cell_type": "code",
   "execution_count": 38,
   "id": "600b301a",
   "metadata": {
    "scrolled": false
   },
   "outputs": [
    {
     "data": {
      "text/html": [
       "<div>\n",
       "<style scoped>\n",
       "    .dataframe tbody tr th:only-of-type {\n",
       "        vertical-align: middle;\n",
       "    }\n",
       "\n",
       "    .dataframe tbody tr th {\n",
       "        vertical-align: top;\n",
       "    }\n",
       "\n",
       "    .dataframe thead th {\n",
       "        text-align: right;\n",
       "    }\n",
       "</style>\n",
       "<table border=\"1\" class=\"dataframe\">\n",
       "  <thead>\n",
       "    <tr style=\"text-align: right;\">\n",
       "      <th></th>\n",
       "      <th>video_id</th>\n",
       "      <th>channel_id</th>\n",
       "    </tr>\n",
       "  </thead>\n",
       "  <tbody>\n",
       "    <tr>\n",
       "      <th>0</th>\n",
       "      <td>bsq2YY-XAEo</td>\n",
       "      <td>UC0xRMqPOyRNPTaL6BxhbCnQ</td>\n",
       "    </tr>\n",
       "    <tr>\n",
       "      <th>1</th>\n",
       "      <td>s8XjEuplx_U</td>\n",
       "      <td>UC8butISFwT-Wl7EV0hUK0BQ</td>\n",
       "    </tr>\n",
       "    <tr>\n",
       "      <th>2</th>\n",
       "      <td>-5v7CuXm7Ns</td>\n",
       "      <td>UCGlgXjYVoHLD86TQQ799WIw</td>\n",
       "    </tr>\n",
       "  </tbody>\n",
       "</table>\n",
       "</div>"
      ],
      "text/plain": [
       "      video_id                channel_id\n",
       "0  bsq2YY-XAEo  UC0xRMqPOyRNPTaL6BxhbCnQ\n",
       "1  s8XjEuplx_U  UC8butISFwT-Wl7EV0hUK0BQ\n",
       "2  -5v7CuXm7Ns  UCGlgXjYVoHLD86TQQ799WIw"
      ]
     },
     "execution_count": 38,
     "metadata": {},
     "output_type": "execute_result"
    }
   ],
   "source": [
    "df_video[:3]"
   ]
  },
  {
   "cell_type": "code",
   "execution_count": 41,
   "id": "b03e9033",
   "metadata": {},
   "outputs": [],
   "source": [
    "DEVELOPER_KEY = secret['KEY']\n",
    "YOUTUBE_API_SERVICE_NAME = \"youtube\"\n",
    "YOUTUBE_API_VERSION = \"v3\"\n",
    "\n",
    "\n",
    "youtube = build(YOUTUBE_API_SERVICE_NAME, YOUTUBE_API_VERSION,\n",
    "                developerKey=DEVELOPER_KEY)\n",
    "\n",
    "q = 'python 自動化'\n",
    "max_results = 50\n",
    "\n",
    "\n",
    "def video_search(youtube, q = 'python 自動化',max_results = 50):\n",
    "\n",
    "        response = youtube.search().list(\n",
    "            q=q,\n",
    "            part=\"id,snippet\",\n",
    "            order='viewCount',\n",
    "            type='video',\n",
    "            maxResults=max_results\n",
    "        ).execute()\n",
    "\n",
    "        items_id = []\n",
    "        items = response['items']\n",
    "        for item in items:\n",
    "            item_id = {}\n",
    "            item_id['video_id'] = item['id']['videoId']\n",
    "            item_id['channel_id'] = item['snippet']['channelId']\n",
    "            items_id.append(item_id)\n",
    "\n",
    "        df_video = pd.DataFrame(items_id)\n",
    "        return df_video"
   ]
  },
  {
   "cell_type": "code",
   "execution_count": 40,
   "id": "84264528",
   "metadata": {},
   "outputs": [
    {
     "data": {
      "text/html": [
       "<div>\n",
       "<style scoped>\n",
       "    .dataframe tbody tr th:only-of-type {\n",
       "        vertical-align: middle;\n",
       "    }\n",
       "\n",
       "    .dataframe tbody tr th {\n",
       "        vertical-align: top;\n",
       "    }\n",
       "\n",
       "    .dataframe thead th {\n",
       "        text-align: right;\n",
       "    }\n",
       "</style>\n",
       "<table border=\"1\" class=\"dataframe\">\n",
       "  <thead>\n",
       "    <tr style=\"text-align: right;\">\n",
       "      <th></th>\n",
       "      <th>video_id</th>\n",
       "      <th>channel_id</th>\n",
       "    </tr>\n",
       "  </thead>\n",
       "  <tbody>\n",
       "    <tr>\n",
       "      <th>0</th>\n",
       "      <td>bsq2YY-XAEo</td>\n",
       "      <td>UC0xRMqPOyRNPTaL6BxhbCnQ</td>\n",
       "    </tr>\n",
       "    <tr>\n",
       "      <th>1</th>\n",
       "      <td>s8XjEuplx_U</td>\n",
       "      <td>UC8butISFwT-Wl7EV0hUK0BQ</td>\n",
       "    </tr>\n",
       "    <tr>\n",
       "      <th>2</th>\n",
       "      <td>-5v7CuXm7Ns</td>\n",
       "      <td>UCGlgXjYVoHLD86TQQ799WIw</td>\n",
       "    </tr>\n",
       "  </tbody>\n",
       "</table>\n",
       "</div>"
      ],
      "text/plain": [
       "      video_id                channel_id\n",
       "0  bsq2YY-XAEo  UC0xRMqPOyRNPTaL6BxhbCnQ\n",
       "1  s8XjEuplx_U  UC8butISFwT-Wl7EV0hUK0BQ\n",
       "2  -5v7CuXm7Ns  UCGlgXjYVoHLD86TQQ799WIw"
      ]
     },
     "execution_count": 40,
     "metadata": {},
     "output_type": "execute_result"
    }
   ],
   "source": [
    "df_video[:3]"
   ]
  },
  {
   "cell_type": "code",
   "execution_count": null,
   "id": "6616e57e",
   "metadata": {},
   "outputs": [],
   "source": []
  },
  {
   "cell_type": "code",
   "execution_count": null,
   "id": "8cf60f1c",
   "metadata": {},
   "outputs": [],
   "source": []
  }
 ],
 "metadata": {
  "kernelspec": {
   "display_name": "Python 3 (ipykernel)",
   "language": "python",
   "name": "python3"
  },
  "language_info": {
   "codemirror_mode": {
    "name": "ipython",
    "version": 3
   },
   "file_extension": ".py",
   "mimetype": "text/x-python",
   "name": "python",
   "nbconvert_exporter": "python",
   "pygments_lexer": "ipython3",
   "version": "3.10.8"
  }
 },
 "nbformat": 4,
 "nbformat_minor": 5
}
